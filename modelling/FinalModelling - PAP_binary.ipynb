{
 "cells": [
  {
   "cell_type": "markdown",
   "metadata": {},
   "source": [
    "# PAP (Binary) - Fine-tuning a BERT based model"
   ]
  },
  {
   "cell_type": "markdown",
   "metadata": {},
   "source": [
    "## Load and preprocess data"
   ]
  },
  {
   "cell_type": "code",
   "execution_count": 6,
   "metadata": {},
   "outputs": [
    {
     "name": "stderr",
     "output_type": "stream",
     "text": [
      "Map: 100%|██████████| 1728/1728 [00:00<00:00, 12803.51 examples/s]\n",
      "Map: 100%|██████████| 216/216 [00:00<00:00, 11215.69 examples/s]\n",
      "Map: 100%|██████████| 216/216 [00:00<00:00, 11002.39 examples/s]\n"
     ]
    },
    {
     "name": "stdout",
     "output_type": "stream",
     "text": [
      "raw datasets:\n",
      " DatasetDict({\n",
      "    train: Dataset({\n",
      "        features: ['text', 'original_label', 'label'],\n",
      "        num_rows: 1728\n",
      "    })\n",
      "    validation: Dataset({\n",
      "        features: ['text', 'original_label', 'label'],\n",
      "        num_rows: 216\n",
      "    })\n",
      "    test: Dataset({\n",
      "        features: ['text', 'original_label', 'label'],\n",
      "        num_rows: 216\n",
      "    })\n",
      "}) \n",
      "\n",
      "tokenized datasets:\n",
      " DatasetDict({\n",
      "    train: Dataset({\n",
      "        features: ['labels', 'input_ids', 'token_type_ids', 'attention_mask'],\n",
      "        num_rows: 1728\n",
      "    })\n",
      "    validation: Dataset({\n",
      "        features: ['labels', 'input_ids', 'token_type_ids', 'attention_mask'],\n",
      "        num_rows: 216\n",
      "    })\n",
      "    test: Dataset({\n",
      "        features: ['labels', 'input_ids', 'token_type_ids', 'attention_mask'],\n",
      "        num_rows: 216\n",
      "    })\n",
      "})\n"
     ]
    }
   ],
   "source": [
    "from transformers import BertTokenizer, BertForSequenceClassification, DataCollatorWithPadding, get_scheduler\n",
    "import torch\n",
    "from torch.optim import AdamW\n",
    "from torch.utils.data import DataLoader\n",
    "from tqdm.auto import tqdm\n",
    "import pandas as pd\n",
    "from datasets import Dataset, DatasetDict\n",
    "import evaluate\n",
    "\n",
    "\n",
    "# Load raw data\n",
    "datasets_path='datasets/pap/train-dev-test-split/binary'\n",
    "raw_datasets = DatasetDict({\n",
    "    'train': Dataset.from_pandas(pd.read_csv(f'{datasets_path}/train.csv')),\n",
    "    'validation': Dataset.from_pandas(pd.read_csv(f'{datasets_path}/dev.csv')),\n",
    "    'test': Dataset.from_pandas(pd.read_csv(f'{datasets_path}/test.csv'))\n",
    "})\n",
    "\n",
    "# Init pre-trained tokenizer\n",
    "tokenizer = BertTokenizer.from_pretrained(\"bert-base-uncased\")\n",
    "\n",
    "# Simple tokenize function\n",
    "def tokenize_function(dataset, truncation=True):\n",
    "    return tokenizer(dataset['text'])\n",
    "\n",
    "# Tokenize raw data\n",
    "tokenized_datasets = raw_datasets.map(tokenize_function, batched=True)\n",
    "\n",
    "# Clear datasets dictionary\n",
    "tokenized_datasets = tokenized_datasets.remove_columns(['text', 'original_label'])\n",
    "tokenized_datasets = tokenized_datasets.rename_column('label', 'labels')\n",
    "tokenized_datasets.set_format('torch')\n",
    "\n",
    "# Initialize the data collator with padding\n",
    "data_collator = DataCollatorWithPadding(tokenizer=tokenizer)\n",
    "\n",
    "# DEBUG\n",
    "print('raw datasets:\\n', raw_datasets, '\\n')\n",
    "print('tokenized datasets:\\n', tokenized_datasets)\n",
    "\n",
    "# Initialize DataLoader for train, validation and test splits\n",
    "batch_size = 200\n",
    "train_dataloader = DataLoader(tokenized_datasets[\"train\"], shuffle=True, batch_size=batch_size, collate_fn=data_collator)\n",
    "eval_dataloader = DataLoader(tokenized_datasets[\"validation\"], batch_size=batch_size, collate_fn=data_collator)\n",
    "test_dataloader = DataLoader(tokenized_datasets[\"test\"], batch_size=batch_size, collate_fn=data_collator)\n"
   ]
  },
  {
   "cell_type": "markdown",
   "metadata": {},
   "source": [
    "## Training"
   ]
  },
  {
   "cell_type": "code",
   "execution_count": 7,
   "metadata": {},
   "outputs": [
    {
     "name": "stderr",
     "output_type": "stream",
     "text": [
      "Some weights of BertForSequenceClassification were not initialized from the model checkpoint at bert-base-uncased and are newly initialized: ['classifier.weight', 'classifier.bias']\n",
      "You should probably TRAIN this model on a down-stream task to be able to use it for predictions and inference.\n",
      "100%|██████████| 27/27 [04:15<00:00,  9.48s/it]\n",
      "100%|██████████| 27/27 [01:32<00:00,  3.31s/it]"
     ]
    }
   ],
   "source": [
    "# Initialize parameters\n",
    "EPOCHS = 3\n",
    "LEARNING_RATE = 3e-5\n",
    "\n",
    "# Initialize a pre-trained BERT model\n",
    "model = BertForSequenceClassification.from_pretrained(\"bert-base-uncased\", num_labels=2)\n",
    "\n",
    "# Initialize optimizer\n",
    "optimizer = AdamW(model.parameters(), lr=LEARNING_RATE)\n",
    "\n",
    "# Run on GPU available\n",
    "device = torch.device(\"cuda\") if torch.cuda.is_available() else torch.device(\"cpu\")\n",
    "model.to(device)\n",
    "\n",
    "# Initialize scheduler\n",
    "num_training_steps = EPOCHS * len(train_dataloader)\n",
    "lr_scheduler = get_scheduler(\n",
    "    \"linear\",\n",
    "    optimizer=optimizer,\n",
    "    num_warmup_steps=0,\n",
    "    num_training_steps=num_training_steps,\n",
    ")\n",
    "\n",
    "# Display progress bar\n",
    "progress_bar = tqdm(range(num_training_steps))\n",
    "\n",
    "# Training loop\n",
    "model.train()\n",
    "for epoch in range(EPOCHS):\n",
    "    for batch in train_dataloader:\n",
    "        batch = {k: v.to(device) for k, v in batch.items()}\n",
    "        outputs = model(**batch)\n",
    "        loss = outputs.loss\n",
    "        loss.backward()\n",
    "\n",
    "        optimizer.step()\n",
    "        lr_scheduler.step()\n",
    "        optimizer.zero_grad()\n",
    "        progress_bar.update(1)"
   ]
  },
  {
   "cell_type": "markdown",
   "metadata": {},
   "source": [
    "## Evaluation"
   ]
  },
  {
   "cell_type": "markdown",
   "metadata": {},
   "source": [
    "Evaluate on development data:"
   ]
  },
  {
   "cell_type": "code",
   "execution_count": 3,
   "metadata": {},
   "outputs": [
    {
     "data": {
      "text/plain": [
       "{'accuracy': 0.7129629629629629,\n",
       " 'precision': 0.7129629629629629,\n",
       " 'recall': 1.0,\n",
       " 'f1': 0.8324324324324325,\n",
       " 'roc_auc': 0.7647674905739422}"
      ]
     },
     "execution_count": 3,
     "metadata": {},
     "output_type": "execute_result"
    }
   ],
   "source": [
    "# Run on GPU available\n",
    "device = torch.device(\"cuda\") if torch.cuda.is_available() else torch.device(\"cpu\")\n",
    "\n",
    "# Define evaluation metrics\n",
    "metrics = {\n",
    "    'accuracy': evaluate.load('accuracy'),\n",
    "    'precision': evaluate.load('precision'),\n",
    "    'recall': evaluate.load('recall'),\n",
    "    'f1': evaluate.load('f1'),\n",
    "}\n",
    "\n",
    "# Load ROC AUC matric\n",
    "roc_auc = evaluate.load('roc_auc')\n",
    "\n",
    "# Set model in evaluation mode\n",
    "model.eval()\n",
    "\n",
    "for batch in eval_dataloader:\n",
    "    \n",
    "    # Move batch data to the specified device (GPU or CPU)\n",
    "    batch = {k: v.to(device) for k, v in batch.items()}\n",
    "    \n",
    "    # Forward pass\n",
    "    with torch.no_grad():\n",
    "        outputs = model(**batch)\n",
    "\n",
    "    # Extract logits and predictions\n",
    "    logits = outputs.logits\n",
    "    predictions = torch.argmax(logits, dim=-1)\n",
    "\n",
    "    # Apply softmax to convert logits to probabilities\n",
    "    probabilities = torch.nn.functional.softmax(logits, dim=-1)\n",
    "    \n",
    "    # Extract probabilities for the positive class\n",
    "    positive_probabilities = probabilities[:, 1].to(device).numpy()\n",
    "\n",
    "    # Update metrics for accuracy, precision, recall, and F1\n",
    "    for metric in metrics.values():\n",
    "        metric.add_batch(predictions=predictions, references=batch['labels'])\n",
    "\n",
    "    # Update ROC AUC metric\n",
    "    roc_auc.add_batch(prediction_scores=positive_probabilities, references=batch['labels'])\n",
    "\n",
    "# Compute metrics for accuracy, precision, recall, and F1\n",
    "eval_dict = {}\n",
    "for metric in metrics.values():\n",
    "    eval_dict.update(metric.compute())\n",
    "\n",
    "# Compute ROC AUC metric\n",
    "eval_dict.update(roc_auc.compute())\n",
    "\n",
    "\n",
    "\n",
    "eval_dict"
   ]
  },
  {
   "cell_type": "markdown",
   "metadata": {},
   "source": [
    "Predictions on test data:"
   ]
  },
  {
   "cell_type": "code",
   "execution_count": 9,
   "metadata": {},
   "outputs": [
    {
     "data": {
      "text/plain": [
       "{'accuracy': 0.7129629629629629,\n",
       " 'precision': 0.7129629629629629,\n",
       " 'recall': 1.0,\n",
       " 'f1': 0.8324324324324325,\n",
       " 'roc_auc': 0.7093632174277336}"
      ]
     },
     "execution_count": 9,
     "metadata": {},
     "output_type": "execute_result"
    }
   ],
   "source": [
    "# Run on GPU available\n",
    "device = torch.device(\"cuda\") if torch.cuda.is_available() else torch.device(\"cpu\")\n",
    "\n",
    "# Define evaluation metrics\n",
    "metrics = {\n",
    "    'accuracy': evaluate.load('accuracy'),\n",
    "    'precision': evaluate.load('precision'),\n",
    "    'recall': evaluate.load('recall'),\n",
    "    'f1': evaluate.load('f1'),\n",
    "}\n",
    "\n",
    "# Load ROC AUC matric\n",
    "roc_auc = evaluate.load('roc_auc')\n",
    "\n",
    "# Set model in evaluation mode\n",
    "model.eval()\n",
    "\n",
    "for batch in test_dataloader:\n",
    "    \n",
    "    # Move batch data to the specified device (GPU or CPU)\n",
    "    batch = {k: v.to(device) for k, v in batch.items()}\n",
    "    \n",
    "    # Forward pass\n",
    "    with torch.no_grad():\n",
    "        outputs = model(**batch)\n",
    "\n",
    "    # Extract logits and predictions\n",
    "    logits = outputs.logits\n",
    "    predictions = torch.argmax(logits, dim=-1)\n",
    "\n",
    "    # Apply softmax to convert logits to probabilities\n",
    "    probabilities = torch.nn.functional.softmax(logits, dim=-1)\n",
    "    \n",
    "    # Extract probabilities for the positive class\n",
    "    positive_probabilities = probabilities[:, 1].to(device).numpy()\n",
    "\n",
    "    # Update metrics for accuracy, precision, recall, and F1\n",
    "    for metric in metrics.values():\n",
    "        metric.add_batch(predictions=predictions, references=batch['labels'])\n",
    "\n",
    "    # Update ROC AUC metric\n",
    "    roc_auc.add_batch(prediction_scores=positive_probabilities, references=batch['labels'])\n",
    "\n",
    "# Compute metrics for accuracy, precision, recall, and F1\n",
    "test_dict = {}\n",
    "for metric in metrics.values():\n",
    "    test_dict.update(metric.compute())\n",
    "\n",
    "# Compute ROC AUC metric\n",
    "test_dict.update(roc_auc.compute())\n",
    "\n",
    "\n",
    "\n",
    "test_dict"
   ]
  }
 ],
 "metadata": {
  "kernelspec": {
   "display_name": ".venv",
   "language": "python",
   "name": "python3"
  },
  "language_info": {
   "codemirror_mode": {
    "name": "ipython",
    "version": 3
   },
   "file_extension": ".py",
   "mimetype": "text/x-python",
   "name": "python",
   "nbconvert_exporter": "python",
   "pygments_lexer": "ipython3",
   "version": "3.11.7"
  }
 },
 "nbformat": 4,
 "nbformat_minor": 2
}
