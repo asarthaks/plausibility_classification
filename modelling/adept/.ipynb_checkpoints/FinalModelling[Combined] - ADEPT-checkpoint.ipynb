{
 "cells": [
  {
   "cell_type": "markdown",
   "id": "0fd0c000-4e3f-45e8-a818-d956f54a906b",
   "metadata": {},
   "source": [
    "# Loading Dataset"
   ]
  },
  {
   "cell_type": "code",
   "execution_count": 1,
   "id": "3a28baba-703d-46b5-9083-d6a2a801d281",
   "metadata": {},
   "outputs": [],
   "source": [
    "import torch"
   ]
  },
  {
   "cell_type": "code",
   "execution_count": 2,
   "id": "c72ea1e8-bbb5-4805-989a-78c496dabc5a",
   "metadata": {},
   "outputs": [
    {
     "data": {
      "text/plain": [
       "True"
      ]
     },
     "execution_count": 2,
     "metadata": {},
     "output_type": "execute_result"
    }
   ],
   "source": [
    "torch.cuda.is_available()"
   ]
  },
  {
   "cell_type": "code",
   "execution_count": 3,
   "id": "3b6e8d3b-b1f0-4abc-8713-58fd5c880513",
   "metadata": {},
   "outputs": [],
   "source": [
    "import pandas as pd\n",
    "import matplotlib.pyplot as plt\n",
    "import numpy as np"
   ]
  },
  {
   "cell_type": "code",
   "execution_count": 4,
   "id": "0328d790-8750-4766-bc92-ac62e300806f",
   "metadata": {},
   "outputs": [
    {
     "name": "stdout",
     "output_type": "stream",
     "text": [
      "ls: cannot access '../datasets/adept/train-dev-test-split/': No such file or directory\n"
     ]
    }
   ],
   "source": [
    "!ls ../datasets/adept/train-dev-test-split/"
   ]
  },
  {
   "cell_type": "code",
   "execution_count": 5,
   "id": "a157adb2-742a-43ac-96c9-f4df0624229a",
   "metadata": {},
   "outputs": [],
   "source": [
    "import json\n",
    "import nltk\n",
    "import re"
   ]
  },
  {
   "cell_type": "code",
   "execution_count": 6,
   "id": "1d7e17f4-6b02-488a-a4c3-06084df5a592",
   "metadata": {},
   "outputs": [],
   "source": [
    "adept_data_path = \"../../datasets/adept/train-dev-test-split\"\n",
    "split = \"train\""
   ]
  },
  {
   "cell_type": "code",
   "execution_count": 7,
   "id": "1565a805-ea81-4d99-93c2-44c9343c89c5",
   "metadata": {},
   "outputs": [],
   "source": [
    "train_data = json.load(open('{}/{}.json'.format(adept_data_path, split), 'r'))"
   ]
  },
  {
   "cell_type": "code",
   "execution_count": 8,
   "id": "d89e5623-8fe8-4815-a11b-1f3368b732c1",
   "metadata": {},
   "outputs": [
    {
     "data": {
      "text/html": [
       "<div>\n",
       "<style scoped>\n",
       "    .dataframe tbody tr th:only-of-type {\n",
       "        vertical-align: middle;\n",
       "    }\n",
       "\n",
       "    .dataframe tbody tr th {\n",
       "        vertical-align: top;\n",
       "    }\n",
       "\n",
       "    .dataframe thead th {\n",
       "        text-align: right;\n",
       "    }\n",
       "</style>\n",
       "<table border=\"1\" class=\"dataframe\">\n",
       "  <thead>\n",
       "    <tr style=\"text-align: right;\">\n",
       "      <th></th>\n",
       "      <th>sentence1</th>\n",
       "      <th>sentence2</th>\n",
       "      <th>modifier</th>\n",
       "      <th>noun</th>\n",
       "      <th>label</th>\n",
       "      <th>idx</th>\n",
       "    </tr>\n",
       "  </thead>\n",
       "  <tbody>\n",
       "    <tr>\n",
       "      <th>0</th>\n",
       "      <td>The effect of sleeping is rejuvenation.</td>\n",
       "      <td>The effect of additional sleeping is rejuvenat...</td>\n",
       "      <td>additional</td>\n",
       "      <td>sleeping</td>\n",
       "      <td>3</td>\n",
       "      <td>13484</td>\n",
       "    </tr>\n",
       "    <tr>\n",
       "      <th>1</th>\n",
       "      <td>A toothbrush is for fresh breath.</td>\n",
       "      <td>A regular toothbrush is for fresh breath.</td>\n",
       "      <td>regular</td>\n",
       "      <td>toothbrush</td>\n",
       "      <td>2</td>\n",
       "      <td>2620</td>\n",
       "    </tr>\n",
       "    <tr>\n",
       "      <th>2</th>\n",
       "      <td>A scene is painted.</td>\n",
       "      <td>A negative scene is painted.</td>\n",
       "      <td>negative</td>\n",
       "      <td>scene</td>\n",
       "      <td>2</td>\n",
       "      <td>3324</td>\n",
       "    </tr>\n",
       "    <tr>\n",
       "      <th>3</th>\n",
       "      <td>A bone breaks a tooth.</td>\n",
       "      <td>An alleged bone breaks a tooth.</td>\n",
       "      <td>alleged</td>\n",
       "      <td>bone</td>\n",
       "      <td>2</td>\n",
       "      <td>10610</td>\n",
       "    </tr>\n",
       "    <tr>\n",
       "      <th>4</th>\n",
       "      <td>A trip causes a happening.</td>\n",
       "      <td>A fabulous trip causes a happening.</td>\n",
       "      <td>fabulous</td>\n",
       "      <td>trip</td>\n",
       "      <td>2</td>\n",
       "      <td>14917</td>\n",
       "    </tr>\n",
       "  </tbody>\n",
       "</table>\n",
       "</div>"
      ],
      "text/plain": [
       "                                 sentence1  \\\n",
       "0  The effect of sleeping is rejuvenation.   \n",
       "1        A toothbrush is for fresh breath.   \n",
       "2                      A scene is painted.   \n",
       "3                   A bone breaks a tooth.   \n",
       "4               A trip causes a happening.   \n",
       "\n",
       "                                           sentence2    modifier        noun  \\\n",
       "0  The effect of additional sleeping is rejuvenat...  additional    sleeping   \n",
       "1          A regular toothbrush is for fresh breath.     regular  toothbrush   \n",
       "2                       A negative scene is painted.    negative       scene   \n",
       "3                    An alleged bone breaks a tooth.     alleged        bone   \n",
       "4                A fabulous trip causes a happening.    fabulous        trip   \n",
       "\n",
       "   label    idx  \n",
       "0      3  13484  \n",
       "1      2   2620  \n",
       "2      2   3324  \n",
       "3      2  10610  \n",
       "4      2  14917  "
      ]
     },
     "execution_count": 8,
     "metadata": {},
     "output_type": "execute_result"
    }
   ],
   "source": [
    "df_train = pd.DataFrame(train_data)\n",
    "df_train.head()"
   ]
  },
  {
   "cell_type": "code",
   "execution_count": 9,
   "id": "95b9e6b3-0098-4a2d-bbb7-907d165742a9",
   "metadata": {},
   "outputs": [],
   "source": [
    "label_to_class_map = {0:\"Impossible\", 1:\"Less Likely\", 2:\"Equally Likely\", 3:\"More Likely\", 4:\"Necessarily True\"}"
   ]
  },
  {
   "cell_type": "code",
   "execution_count": 10,
   "id": "a016b8fa-755f-4fab-981c-8032a1e24ed7",
   "metadata": {},
   "outputs": [
    {
     "data": {
      "text/plain": [
       "dict_values(['Impossible', 'Less Likely', 'Equally Likely', 'More Likely', 'Necessarily True'])"
      ]
     },
     "execution_count": 10,
     "metadata": {},
     "output_type": "execute_result"
    }
   ],
   "source": [
    "label_to_class_map.values()"
   ]
  },
  {
   "cell_type": "markdown",
   "id": "ed6dd2f6-10a5-4910-8669-8a719093994f",
   "metadata": {},
   "source": [
    "Preprocessing data to get concreteness scores"
   ]
  },
  {
   "cell_type": "code",
   "execution_count": 11,
   "id": "15c55742-f396-457c-9aaa-b67a42a0011f",
   "metadata": {},
   "outputs": [
    {
     "data": {
      "text/html": [
       "<div>\n",
       "<style scoped>\n",
       "    .dataframe tbody tr th:only-of-type {\n",
       "        vertical-align: middle;\n",
       "    }\n",
       "\n",
       "    .dataframe tbody tr th {\n",
       "        vertical-align: top;\n",
       "    }\n",
       "\n",
       "    .dataframe thead th {\n",
       "        text-align: right;\n",
       "    }\n",
       "</style>\n",
       "<table border=\"1\" class=\"dataframe\">\n",
       "  <thead>\n",
       "    <tr style=\"text-align: right;\">\n",
       "      <th></th>\n",
       "      <th>sentence1</th>\n",
       "      <th>sentence2</th>\n",
       "      <th>modifier</th>\n",
       "      <th>noun</th>\n",
       "      <th>label</th>\n",
       "      <th>idx</th>\n",
       "      <th>sentence2_preprocessed</th>\n",
       "    </tr>\n",
       "  </thead>\n",
       "  <tbody>\n",
       "    <tr>\n",
       "      <th>0</th>\n",
       "      <td>The effect of sleeping is rejuvenation.</td>\n",
       "      <td>The effect of additional sleeping is rejuvenat...</td>\n",
       "      <td>additional</td>\n",
       "      <td>sleeping</td>\n",
       "      <td>3</td>\n",
       "      <td>13484</td>\n",
       "      <td>the effect of additional sleeping is rejuvenation</td>\n",
       "    </tr>\n",
       "    <tr>\n",
       "      <th>1</th>\n",
       "      <td>A toothbrush is for fresh breath.</td>\n",
       "      <td>A regular toothbrush is for fresh breath.</td>\n",
       "      <td>regular</td>\n",
       "      <td>toothbrush</td>\n",
       "      <td>2</td>\n",
       "      <td>2620</td>\n",
       "      <td>a regular toothbrush is for fresh breath</td>\n",
       "    </tr>\n",
       "  </tbody>\n",
       "</table>\n",
       "</div>"
      ],
      "text/plain": [
       "                                 sentence1  \\\n",
       "0  The effect of sleeping is rejuvenation.   \n",
       "1        A toothbrush is for fresh breath.   \n",
       "\n",
       "                                           sentence2    modifier        noun  \\\n",
       "0  The effect of additional sleeping is rejuvenat...  additional    sleeping   \n",
       "1          A regular toothbrush is for fresh breath.     regular  toothbrush   \n",
       "\n",
       "   label    idx                             sentence2_preprocessed  \n",
       "0      3  13484  the effect of additional sleeping is rejuvenation  \n",
       "1      2   2620           a regular toothbrush is for fresh breath  "
      ]
     },
     "execution_count": 11,
     "metadata": {},
     "output_type": "execute_result"
    }
   ],
   "source": [
    "df_train['sentence2_preprocessed'] = df_train['sentence2'].map(lambda x: re.sub('[,\\.!?]', '', x))\n",
    "df_train['sentence2_preprocessed'] = df_train['sentence2_preprocessed'].map(lambda x: x.lower())\n",
    "df_train.head(2)"
   ]
  },
  {
   "cell_type": "code",
   "execution_count": 12,
   "id": "bb31ed6b-e734-40f1-ae04-3d644129d764",
   "metadata": {},
   "outputs": [
    {
     "data": {
      "text/html": [
       "<div>\n",
       "<style scoped>\n",
       "    .dataframe tbody tr th:only-of-type {\n",
       "        vertical-align: middle;\n",
       "    }\n",
       "\n",
       "    .dataframe tbody tr th {\n",
       "        vertical-align: top;\n",
       "    }\n",
       "\n",
       "    .dataframe thead th {\n",
       "        text-align: right;\n",
       "    }\n",
       "</style>\n",
       "<table border=\"1\" class=\"dataframe\">\n",
       "  <thead>\n",
       "    <tr style=\"text-align: right;\">\n",
       "      <th></th>\n",
       "      <th>Word</th>\n",
       "      <th>Bigram</th>\n",
       "      <th>Conc.M</th>\n",
       "      <th>Conc.SD</th>\n",
       "      <th>Unknown</th>\n",
       "      <th>Total</th>\n",
       "      <th>Percent_known</th>\n",
       "      <th>SUBTLEX</th>\n",
       "      <th>Dom_Pos</th>\n",
       "    </tr>\n",
       "  </thead>\n",
       "  <tbody>\n",
       "    <tr>\n",
       "      <th>0</th>\n",
       "      <td>roadsweeper</td>\n",
       "      <td>0</td>\n",
       "      <td>4.85</td>\n",
       "      <td>0.37</td>\n",
       "      <td>1</td>\n",
       "      <td>27</td>\n",
       "      <td>0.96</td>\n",
       "      <td>0</td>\n",
       "      <td>0</td>\n",
       "    </tr>\n",
       "    <tr>\n",
       "      <th>1</th>\n",
       "      <td>traindriver</td>\n",
       "      <td>0</td>\n",
       "      <td>4.54</td>\n",
       "      <td>0.71</td>\n",
       "      <td>3</td>\n",
       "      <td>29</td>\n",
       "      <td>0.90</td>\n",
       "      <td>0</td>\n",
       "      <td>0</td>\n",
       "    </tr>\n",
       "  </tbody>\n",
       "</table>\n",
       "</div>"
      ],
      "text/plain": [
       "          Word  Bigram  Conc.M  Conc.SD  Unknown  Total  Percent_known  \\\n",
       "0  roadsweeper       0    4.85     0.37        1     27           0.96   \n",
       "1  traindriver       0    4.54     0.71        3     29           0.90   \n",
       "\n",
       "   SUBTLEX Dom_Pos  \n",
       "0        0       0  \n",
       "1        0       0  "
      ]
     },
     "execution_count": 12,
     "metadata": {},
     "output_type": "execute_result"
    }
   ],
   "source": [
    "# We got this dataset for concreteness of 40k words (https://pubmed.ncbi.nlm.nih.gov/24142837/) from https://web.stanford.edu/class/linguist278/data/\n",
    "concreteness_df = pd.read_csv('../../datasets/concreteness/Concreteness_ratings_Brysbaert_et_al_BRM.csv')\n",
    "concreteness_df.head(2)"
   ]
  },
  {
   "cell_type": "code",
   "execution_count": 13,
   "id": "784bf63a-ea2e-49b7-b6fa-68222779677a",
   "metadata": {},
   "outputs": [],
   "source": [
    "word_to_concreteness_score_map = dict()\n",
    "for idx, row in concreteness_df.iterrows():\n",
    "    row = row.to_dict()\n",
    "    word_to_concreteness_score_map[row['Word']] = row['Conc.M']/5.0 # Normalizing to a scale of 0 to 1"
   ]
  },
  {
   "cell_type": "code",
   "execution_count": 14,
   "id": "cb5eef04-632c-4bea-a8fd-ac1de97ad27d",
   "metadata": {},
   "outputs": [
    {
     "data": {
      "text/plain": [
       "39954"
      ]
     },
     "execution_count": 14,
     "metadata": {},
     "output_type": "execute_result"
    }
   ],
   "source": [
    "len(word_to_concreteness_score_map.keys())"
   ]
  },
  {
   "cell_type": "markdown",
   "id": "4613ac58-f6c2-43ed-9539-40002cbc531e",
   "metadata": {},
   "source": [
    "Some utility functions to get concreteness scores for the input sentence"
   ]
  },
  {
   "cell_type": "code",
   "execution_count": 15,
   "id": "6baf8c30-513d-4b9d-97cc-fb571a09e36f",
   "metadata": {},
   "outputs": [],
   "source": [
    "def get_concreteness_score(word):\n",
    "    \"\"\"\n",
    "    Get the concreteness score of a word based on the Concreteness Ratings dataset.\n",
    "    \"\"\"\n",
    "    # If the word is not found in the dataset, return a default score of 0.5\n",
    "    return round(word_to_concreteness_score_map.get(word, 0.5), 3)"
   ]
  },
  {
   "cell_type": "code",
   "execution_count": 16,
   "id": "41a244c3-783f-4464-8aad-0998ec5a5c55",
   "metadata": {},
   "outputs": [],
   "source": [
    "def calculate_text_concreteness(text):\n",
    "    \"\"\"\n",
    "    Calculate the concreteness score for a given text.\n",
    "    \"\"\"\n",
    "    words = nltk.word_tokenize(text)\n",
    "    concreteness_scores = [get_concreteness_score(word) for word in words]\n",
    "    # Take the average concreteness score of all words in the text\n",
    "    return sum(concreteness_scores) / len(concreteness_scores)"
   ]
  },
  {
   "cell_type": "code",
   "execution_count": 17,
   "id": "71a16f43-02b7-48cb-b573-24f688b9a0bf",
   "metadata": {},
   "outputs": [],
   "source": [
    "def calculate_text_concreteness_sequence(text):\n",
    "    \"\"\"\n",
    "    Calculate the concreteness score for a given text.\n",
    "    \"\"\"\n",
    "    words = nltk.word_tokenize(text)\n",
    "    concreteness_scores = [get_concreteness_score(word) for word in words]\n",
    "    concreteness_scores = \" \".join([str(i) for i in concreteness_scores])\n",
    "    # Take the average concreteness score of all words in the text\n",
    "    return concreteness_scores"
   ]
  },
  {
   "cell_type": "code",
   "execution_count": 18,
   "id": "a3cc9123-912a-47f4-8000-7af7e9e272e2",
   "metadata": {},
   "outputs": [
    {
     "name": "stdout",
     "output_type": "stream",
     "text": [
      "Concreteness Score: 0.5246666666666667\n"
     ]
    }
   ],
   "source": [
    "# Example usage\n",
    "text = \"the laws of the world can't stop him\"\n",
    "concreteness_score = calculate_text_concreteness(text)\n",
    "print(f\"Concreteness Score: {concreteness_score}\")"
   ]
  },
  {
   "cell_type": "code",
   "execution_count": 19,
   "id": "b0e242c3-0be5-4be5-934d-ce2adf258063",
   "metadata": {},
   "outputs": [
    {
     "name": "stdout",
     "output_type": "stream",
     "text": [
      "Concreteness Score: 0.868\n"
     ]
    }
   ],
   "source": [
    "# Example usage\n",
    "text = \"car crash\"\n",
    "concreteness_score = calculate_text_concreteness(text)\n",
    "print(f\"Concreteness Score: {concreteness_score}\")"
   ]
  },
  {
   "cell_type": "markdown",
   "id": "4f7a8ee2-b88a-4e2c-a746-e80939fdbc38",
   "metadata": {},
   "source": [
    "We are using concreteness score sequence because in the EDA we found that concreteness score can be a usefull factor in distinguishing whether the sentence is plausible or not"
   ]
  },
  {
   "cell_type": "code",
   "execution_count": 20,
   "id": "92b98d4a-534f-4558-b9f0-b7525a3e0308",
   "metadata": {},
   "outputs": [],
   "source": [
    "df_train['concreteness_score_sequence'] = df_train.sentence2_preprocessed.apply(calculate_text_concreteness_sequence)"
   ]
  },
  {
   "cell_type": "code",
   "execution_count": 21,
   "id": "9f8be043-4951-4da4-8325-5c977a806d9c",
   "metadata": {},
   "outputs": [
    {
     "data": {
      "text/html": [
       "<div>\n",
       "<style scoped>\n",
       "    .dataframe tbody tr th:only-of-type {\n",
       "        vertical-align: middle;\n",
       "    }\n",
       "\n",
       "    .dataframe tbody tr th {\n",
       "        vertical-align: top;\n",
       "    }\n",
       "\n",
       "    .dataframe thead th {\n",
       "        text-align: right;\n",
       "    }\n",
       "</style>\n",
       "<table border=\"1\" class=\"dataframe\">\n",
       "  <thead>\n",
       "    <tr style=\"text-align: right;\">\n",
       "      <th></th>\n",
       "      <th>sentence1</th>\n",
       "      <th>sentence2</th>\n",
       "      <th>modifier</th>\n",
       "      <th>noun</th>\n",
       "      <th>label</th>\n",
       "      <th>idx</th>\n",
       "      <th>sentence2_preprocessed</th>\n",
       "      <th>concreteness_score_sequence</th>\n",
       "    </tr>\n",
       "  </thead>\n",
       "  <tbody>\n",
       "    <tr>\n",
       "      <th>0</th>\n",
       "      <td>The effect of sleeping is rejuvenation.</td>\n",
       "      <td>The effect of additional sleeping is rejuvenat...</td>\n",
       "      <td>additional</td>\n",
       "      <td>sleeping</td>\n",
       "      <td>3</td>\n",
       "      <td>13484</td>\n",
       "      <td>the effect of additional sleeping is rejuvenation</td>\n",
       "      <td>0.286 0.36 0.334 0.486 0.846 0.318 0.42</td>\n",
       "    </tr>\n",
       "    <tr>\n",
       "      <th>1</th>\n",
       "      <td>A toothbrush is for fresh breath.</td>\n",
       "      <td>A regular toothbrush is for fresh breath.</td>\n",
       "      <td>regular</td>\n",
       "      <td>toothbrush</td>\n",
       "      <td>2</td>\n",
       "      <td>2620</td>\n",
       "      <td>a regular toothbrush is for fresh breath</td>\n",
       "      <td>0.292 0.48 1.0 0.318 0.326 0.394 0.872</td>\n",
       "    </tr>\n",
       "  </tbody>\n",
       "</table>\n",
       "</div>"
      ],
      "text/plain": [
       "                                 sentence1  \\\n",
       "0  The effect of sleeping is rejuvenation.   \n",
       "1        A toothbrush is for fresh breath.   \n",
       "\n",
       "                                           sentence2    modifier        noun  \\\n",
       "0  The effect of additional sleeping is rejuvenat...  additional    sleeping   \n",
       "1          A regular toothbrush is for fresh breath.     regular  toothbrush   \n",
       "\n",
       "   label    idx                             sentence2_preprocessed  \\\n",
       "0      3  13484  the effect of additional sleeping is rejuvenation   \n",
       "1      2   2620           a regular toothbrush is for fresh breath   \n",
       "\n",
       "               concreteness_score_sequence  \n",
       "0  0.286 0.36 0.334 0.486 0.846 0.318 0.42  \n",
       "1   0.292 0.48 1.0 0.318 0.326 0.394 0.872  "
      ]
     },
     "execution_count": 21,
     "metadata": {},
     "output_type": "execute_result"
    }
   ],
   "source": [
    "df_train.head(2)"
   ]
  },
  {
   "cell_type": "code",
   "execution_count": 22,
   "id": "14aeac54-5080-4c85-b8f2-14756ef15a46",
   "metadata": {},
   "outputs": [
    {
     "data": {
      "text/plain": [
       "(12892, 8)"
      ]
     },
     "execution_count": 22,
     "metadata": {},
     "output_type": "execute_result"
    }
   ],
   "source": [
    "df_train.shape"
   ]
  },
  {
   "cell_type": "markdown",
   "id": "da1bd731-60c4-48c4-afd9-28fbadc78915",
   "metadata": {},
   "source": [
    "Loading validation and test dataset and adding concreteness scores sequences for them"
   ]
  },
  {
   "cell_type": "code",
   "execution_count": 23,
   "id": "92adfbdf-d33c-4f14-bb58-582050d55989",
   "metadata": {},
   "outputs": [
    {
     "name": "stdout",
     "output_type": "stream",
     "text": [
      "(1611, 6) (1612, 6)\n"
     ]
    }
   ],
   "source": [
    "df_validation = pd.DataFrame(json.load(open('{}/{}.json'.format(adept_data_path, \"val\"), 'r')))\n",
    "df_test = pd.DataFrame(json.load(open('{}/{}.json'.format(adept_data_path, \"test\"), 'r')))\n",
    "print(df_validation.shape, df_test.shape)"
   ]
  },
  {
   "cell_type": "code",
   "execution_count": 24,
   "id": "6888b95b-efa9-4b8b-8767-1c5468b51b65",
   "metadata": {},
   "outputs": [],
   "source": [
    "df_validation['sentence2_preprocessed'] = df_validation['sentence2'].map(lambda x: re.sub('[,\\.!?]', '', x))\n",
    "df_validation['sentence2_preprocessed'] = df_validation['sentence2_preprocessed'].map(lambda x: x.lower())\n",
    "df_validation['concreteness_score_sequence'] = df_validation.sentence2_preprocessed.apply(calculate_text_concreteness_sequence)\n",
    "\n",
    "df_test['sentence2_preprocessed'] = df_test['sentence2'].map(lambda x: re.sub('[,\\.!?]', '', x))\n",
    "df_test['sentence2_preprocessed'] = df_test['sentence2_preprocessed'].map(lambda x: x.lower())\n",
    "df_test['concreteness_score_sequence'] = df_test.sentence2_preprocessed.apply(calculate_text_concreteness_sequence)"
   ]
  },
  {
   "cell_type": "markdown",
   "id": "cc1f9d85-b90f-4d2a-b138-5d6e2ea71844",
   "metadata": {},
   "source": [
    "### Artificial Dataset Combined"
   ]
  },
  {
   "cell_type": "markdown",
   "id": "c62119db-637e-44af-8f38-3ab07b82c6f3",
   "metadata": {},
   "source": [
    "Loading artificially created dataset (using Llama 2 70B model). Checkout the notebook modelling/adept/ArtificialDataCreation - ADEPT.ipynb for more info"
   ]
  },
  {
   "cell_type": "code",
   "execution_count": 25,
   "id": "4c975816-ad8d-4546-8966-5f130a7ba9d0",
   "metadata": {},
   "outputs": [],
   "source": [
    "df_artificial_train_combined = pd.read_csv('../../datasets/adept/generated-data/artificial_train_combined.csv')"
   ]
  },
  {
   "cell_type": "code",
   "execution_count": 26,
   "id": "8970e28d-96ee-4de8-814f-1d2d8f6d9522",
   "metadata": {},
   "outputs": [],
   "source": [
    "df_artificial_train_combined['sentence2_preprocessed'] = df_artificial_train_combined['sentence2'].map(lambda x: re.sub('[,\\.!?]', '', x))\n",
    "df_artificial_train_combined['sentence2_preprocessed'] = df_artificial_train_combined['sentence2_preprocessed'].map(lambda x: x.lower())\n",
    "df_artificial_train_combined['concreteness_score_sequence'] = df_artificial_train_combined.sentence2_preprocessed.apply(calculate_text_concreteness_sequence)"
   ]
  },
  {
   "cell_type": "code",
   "execution_count": 27,
   "id": "3a01e590-2796-42c5-b7a9-c5aa53a5c466",
   "metadata": {},
   "outputs": [
    {
     "data": {
      "text/html": [
       "<div>\n",
       "<style scoped>\n",
       "    .dataframe tbody tr th:only-of-type {\n",
       "        vertical-align: middle;\n",
       "    }\n",
       "\n",
       "    .dataframe tbody tr th {\n",
       "        vertical-align: top;\n",
       "    }\n",
       "\n",
       "    .dataframe thead th {\n",
       "        text-align: right;\n",
       "    }\n",
       "</style>\n",
       "<table border=\"1\" class=\"dataframe\">\n",
       "  <thead>\n",
       "    <tr style=\"text-align: right;\">\n",
       "      <th></th>\n",
       "      <th>noun</th>\n",
       "      <th>modifier</th>\n",
       "      <th>sentence2</th>\n",
       "      <th>label</th>\n",
       "      <th>sentence1</th>\n",
       "      <th>idx</th>\n",
       "      <th>sentence2_preprocessed</th>\n",
       "      <th>concreteness_score_sequence</th>\n",
       "    </tr>\n",
       "  </thead>\n",
       "  <tbody>\n",
       "    <tr>\n",
       "      <th>0</th>\n",
       "      <td>Dog</td>\n",
       "      <td>Happy</td>\n",
       "      <td>A happy dog wags its tail.</td>\n",
       "      <td>4</td>\n",
       "      <td>NaN</td>\n",
       "      <td>NaN</td>\n",
       "      <td>a happy dog wags its tail</td>\n",
       "      <td>0.292 0.512 0.97 0.5 0.38 0.992</td>\n",
       "    </tr>\n",
       "    <tr>\n",
       "      <th>1</th>\n",
       "      <td>Building</td>\n",
       "      <td>Tall</td>\n",
       "      <td>A tall building casts a long shadow.</td>\n",
       "      <td>4</td>\n",
       "      <td>NaN</td>\n",
       "      <td>NaN</td>\n",
       "      <td>a tall building casts a long shadow</td>\n",
       "      <td>0.292 0.672 0.928 0.5 0.292 0.636 0.908</td>\n",
       "    </tr>\n",
       "  </tbody>\n",
       "</table>\n",
       "</div>"
      ],
      "text/plain": [
       "       noun modifier                             sentence2  label sentence1  \\\n",
       "0       Dog    Happy            A happy dog wags its tail.      4       NaN   \n",
       "1  Building     Tall  A tall building casts a long shadow.      4       NaN   \n",
       "\n",
       "   idx               sentence2_preprocessed  \\\n",
       "0  NaN            a happy dog wags its tail   \n",
       "1  NaN  a tall building casts a long shadow   \n",
       "\n",
       "               concreteness_score_sequence  \n",
       "0          0.292 0.512 0.97 0.5 0.38 0.992  \n",
       "1  0.292 0.672 0.928 0.5 0.292 0.636 0.908  "
      ]
     },
     "execution_count": 27,
     "metadata": {},
     "output_type": "execute_result"
    }
   ],
   "source": [
    "df_artificial_train_combined.head(2)"
   ]
  },
  {
   "cell_type": "markdown",
   "id": "1aff13f1-7ab5-4685-95c5-81dc1d261d34",
   "metadata": {},
   "source": [
    "# Fine Tuning Different Transformer Models using different strategies on ADEPT"
   ]
  },
  {
   "cell_type": "markdown",
   "id": "314eb2d5-7462-4b73-9331-8f4287391d6e",
   "metadata": {},
   "source": [
    "## Data Preparation"
   ]
  },
  {
   "cell_type": "code",
   "execution_count": 28,
   "id": "fafe14d4-5175-4bc0-8e2b-9f1f77956e68",
   "metadata": {},
   "outputs": [
    {
     "name": "stderr",
     "output_type": "stream",
     "text": [
      "/usr/local/lib/python3.10/site-packages/tqdm/auto.py:21: TqdmWarning: IProgress not found. Please update jupyter and ipywidgets. See https://ipywidgets.readthedocs.io/en/stable/user_install.html\n",
      "  from .autonotebook import tqdm as notebook_tqdm\n"
     ]
    }
   ],
   "source": [
    "from transformers import AutoModelForSequenceClassification, AutoTokenizer\n",
    "from transformers import DataCollatorWithPadding, get_scheduler\n",
    "from datasets import load_dataset, Dataset, DatasetDict\n",
    "from tqdm.auto import tqdm"
   ]
  },
  {
   "cell_type": "code",
   "execution_count": 29,
   "id": "fcb482a7-b289-4fce-9ef5-b9b85f07ace7",
   "metadata": {},
   "outputs": [
    {
     "data": {
      "text/plain": [
       "'../../datasets/adept/train-dev-test-split'"
      ]
     },
     "execution_count": 29,
     "metadata": {},
     "output_type": "execute_result"
    }
   ],
   "source": [
    "adept_data_path"
   ]
  },
  {
   "cell_type": "markdown",
   "id": "cbb8a051-de82-4c27-8094-078d450701eb",
   "metadata": {},
   "source": [
    "Loading dataset in a format that can be used by huggingface transformers library"
   ]
  },
  {
   "cell_type": "code",
   "execution_count": 30,
   "id": "6a645e70-ca3e-4d9e-b0ac-ab2aaaedd309",
   "metadata": {},
   "outputs": [],
   "source": [
    "adept_dataset = DatasetDict({\n",
    "    'train': Dataset.from_pandas(df_train),\n",
    "    'validation': Dataset.from_pandas(df_validation),\n",
    "    'test': Dataset.from_pandas(df_test),\n",
    "    'artificial_train_combined': Dataset.from_pandas(df_artificial_train_combined)\n",
    "})"
   ]
  },
  {
   "cell_type": "code",
   "execution_count": 31,
   "id": "17a5cad0-543e-4a48-a534-e03ead568db8",
   "metadata": {},
   "outputs": [
    {
     "data": {
      "text/plain": [
       "DatasetDict({\n",
       "    train: Dataset({\n",
       "        features: ['sentence1', 'sentence2', 'modifier', 'noun', 'label', 'idx', 'sentence2_preprocessed', 'concreteness_score_sequence'],\n",
       "        num_rows: 12892\n",
       "    })\n",
       "    validation: Dataset({\n",
       "        features: ['sentence1', 'sentence2', 'modifier', 'noun', 'label', 'idx', 'sentence2_preprocessed', 'concreteness_score_sequence'],\n",
       "        num_rows: 1611\n",
       "    })\n",
       "    test: Dataset({\n",
       "        features: ['sentence1', 'sentence2', 'modifier', 'noun', 'label', 'idx', 'sentence2_preprocessed', 'concreteness_score_sequence'],\n",
       "        num_rows: 1612\n",
       "    })\n",
       "    artificial_train_combined: Dataset({\n",
       "        features: ['noun', 'modifier', 'sentence2', 'label', 'sentence1', 'idx', 'sentence2_preprocessed', 'concreteness_score_sequence'],\n",
       "        num_rows: 13186\n",
       "    })\n",
       "})"
      ]
     },
     "execution_count": 31,
     "metadata": {},
     "output_type": "execute_result"
    }
   ],
   "source": [
    "adept_dataset"
   ]
  },
  {
   "cell_type": "code",
   "execution_count": 32,
   "id": "af5ce803-b5d5-4f7e-b686-ba2d5562b27e",
   "metadata": {},
   "outputs": [
    {
     "data": {
      "text/plain": [
       "{'sentence1': Value(dtype='string', id=None),\n",
       " 'sentence2': Value(dtype='string', id=None),\n",
       " 'modifier': Value(dtype='string', id=None),\n",
       " 'noun': Value(dtype='string', id=None),\n",
       " 'label': Value(dtype='int64', id=None),\n",
       " 'idx': Value(dtype='int64', id=None),\n",
       " 'sentence2_preprocessed': Value(dtype='string', id=None),\n",
       " 'concreteness_score_sequence': Value(dtype='string', id=None)}"
      ]
     },
     "execution_count": 32,
     "metadata": {},
     "output_type": "execute_result"
    }
   ],
   "source": [
    "adept_dataset['train'].features"
   ]
  },
  {
   "cell_type": "code",
   "execution_count": 33,
   "id": "37de10af-b6c2-4e5b-a42a-d55e530958b4",
   "metadata": {},
   "outputs": [
    {
     "data": {
      "text/plain": [
       "{'sentence1': 'A year is made up of 365 days.',\n",
       " 'sentence2': 'An outstanding year is made up of 365 days.',\n",
       " 'modifier': 'outstanding',\n",
       " 'noun': 'year',\n",
       " 'label': 2,\n",
       " 'idx': 2825,\n",
       " 'sentence2_preprocessed': 'an outstanding year is made up of 365 days',\n",
       " 'concreteness_score_sequence': '0.292 0.35 0.65 0.318 0.504 0.766 0.334 0.5 0.672'}"
      ]
     },
     "execution_count": 33,
     "metadata": {},
     "output_type": "execute_result"
    }
   ],
   "source": [
    "adept_dataset['train'][10]"
   ]
  },
  {
   "cell_type": "markdown",
   "id": "93585e59-10ce-4629-a18c-bf8a82b9e075",
   "metadata": {},
   "source": [
    "These are the best params we got after fine tuning different models and parameter using optuna"
   ]
  },
  {
   "cell_type": "code",
   "execution_count": 34,
   "id": "9cf47ffe-34a4-40be-9e36-cc9e8a36b434",
   "metadata": {},
   "outputs": [],
   "source": [
    "from torch.optim.adamw import AdamW\n",
    "from torch.utils.data import DataLoader\n",
    "import evaluate"
   ]
  },
  {
   "cell_type": "code",
   "execution_count": 35,
   "id": "7e284858-83f2-4b7e-8242-354e3c83d9a4",
   "metadata": {},
   "outputs": [],
   "source": [
    "COLUMNS_TO_KEEP = ['label', 'input_ids', 'token_type_ids', 'attention_mask']"
   ]
  },
  {
   "cell_type": "code",
   "execution_count": 9,
   "id": "3e327952-a8c0-4ae9-9515-1660d80ed9eb",
   "metadata": {},
   "outputs": [],
   "source": [
    "class ModellingExperiments:\n",
    "    def __init__(self, model_name, dataset, batch_size, learning_rate):\n",
    "        self.model_name = model_name\n",
    "        self.dataset = dataset\n",
    "        self.batch_size = batch_size\n",
    "        self.learning_rate = learning_rate\n",
    "        self.tokenizer = AutoTokenizer.from_pretrained(model_name)\n",
    "        self.cols_to_keep = set(COLUMNS_TO_KEEP)\n",
    "        self.device = torch.device(\"cuda\") if torch.cuda.is_available() else torch.device(\"cpu\")\n",
    "        self.data_collator = DataCollatorWithPadding(self.tokenizer)\n",
    "        \n",
    "    def tokenize_sentence_with_concreteness_score(self, item):\n",
    "        # We also tried using the concreteness score for the whole sentence as a feature input\n",
    "        # To implement that, we changed the source code of transformers library and changed the classification head manually \n",
    "        # So that we can accomodate that extra feature, but this method of encoding concreteness score sequence was giving better score\n",
    "        # Hence, we are using this only in the final experiments. You can check that experiment out in the following notebook:\n",
    "        # modelling/adept/experiments/FinalModellingWithConcretenessScore[DeBERTa] - ADEPT\n",
    "        return self.tokenizer(item['sentence2'], item['concreteness_score_sequence'], truncation=True)\n",
    "        \n",
    "    def tokenize_sentence(self, item):\n",
    "        # Normal tokenization\n",
    "        return self.tokenizer(item['sentence2'], truncation=True)\n",
    "        \n",
    "    def add_strategy_to_tokenizer_function_map(self):\n",
    "        # Mapping between strategy and the tokenization functions defined above\n",
    "        # Strategy refers to whether we are using normal tokenization or whether we want to do paired tokenization of \n",
    "        # both input sentence and the sequence of concreteness score for that sentence\n",
    "        self.strategy_to_tokenizer_function_map = dict()\n",
    "        self.strategy_to_tokenizer_function_map['normal_finetuning'] = self.tokenize_sentence_with_concreteness_score\n",
    "        self.strategy_to_tokenizer_function_map['concreteness_score_addition'] = self.tokenize_sentence\n",
    "        \n",
    "    def prepare_dataset(self, strategy):\n",
    "        # Here, we wull tokenize the dataset based on the strategy we are planning to use\n",
    "        self.strategy = strategy\n",
    "        self.add_strategy_to_tokenizer_function_map()\n",
    "        self.tokenized_dataset = self.dataset.map(self.strategy_to_tokenizer_function_map[self.strategy], batched=True)\n",
    "        current_cols = set(list(self.tokenized_dataset['train'].features.keys()))\n",
    "        self.tokenized_dataset = self.tokenized_dataset.remove_columns(list(current_cols - self.cols_to_keep))\n",
    "        self.tokenized_dataset = self.tokenized_dataset.rename_column(\"label\", \"labels\")\n",
    "        self.tokenized_dataset = self.tokenized_dataset.with_format(\"torch\")\n",
    "\n",
    "    def prepare_dataloaders(self, train_dataset_type):\n",
    "        # Here, we prepare the dataloaders, it also takes an argument named train_dataset_type which specified\n",
    "        # whether we want to use the original training data or the one combined with out artificially created dataset\n",
    "        self.train_dataset_type = train_dataset_type\n",
    "        self.train_dataloader = DataLoader(self.tokenized_dataset[self.train_dataset_type], batch_size=self.batch_size, shuffle=True, collate_fn=self.data_collator)\n",
    "        self.validation_dataloader = DataLoader(self.tokenized_dataset['validation'], batch_size=self.batch_size, collate_fn=self.data_collator)\n",
    "        self.test_dataloader = DataLoader(self.tokenized_dataset['test'], batch_size=self.batch_size, collate_fn=self.data_collator)\n",
    "\n",
    "    def init_model(self):\n",
    "        torch.manual_seed(12)\n",
    "        self.model = AutoModelForSequenceClassification.from_pretrained(model_name, num_labels=5, ignore_mismatched_sizes=True)\n",
    "        self.model.to(self.device)\n",
    "\n",
    "    def setup_optimizer(self, num_epochs):\n",
    "        # Setting up optimizer and learning rate scheduler\n",
    "        self.num_epochs = num_epochs\n",
    "        self.optimizer = AdamW(self.model.parameters(), lr=self.learning_rate)\n",
    "        self.num_training_steps = self.num_epochs*len(self.train_dataloader)\n",
    "        self.learning_rate_scheduler = get_scheduler(\"linear\", optimizer=self.optimizer, num_warmup_steps=0, num_training_steps=self.num_training_steps)\n",
    "    \n",
    "    def train_model(self):\n",
    "        # Training the Model\n",
    "        self.model.train()\n",
    "        self.evaluation_results_list = list()\n",
    "        progress_bar = tqdm(range(self.num_training_steps))\n",
    "        for epoch in range(self.num_epochs):\n",
    "            for batch in self.train_dataloader:\n",
    "                batch = {k:v.to(self.device) for k, v in batch.items()}\n",
    "                outputs = self.model(**batch)\n",
    "                loss = outputs.loss\n",
    "                # calculating gradients\n",
    "                loss.backward()\n",
    "                # optimizing weights\n",
    "                self.optimizer.step()\n",
    "                # updating learning rate\n",
    "                self.learning_rate_scheduler.step()\n",
    "                # flushing gradients\n",
    "                self.optimizer.zero_grad()\n",
    "                # updating progress bar\n",
    "                progress_bar.update(1)\n",
    "            # evaluating per epoch\n",
    "            self.eval_model(self.validation_dataloader)\n",
    "            eval_results = dict()\n",
    "            eval_results['epoch'] = epoch\n",
    "            for k, v in self.eval_dict.items():\n",
    "                eval_results[\"validation_{}\".format(k)] = v\n",
    "            self.eval_model(self.test_dataloader)\n",
    "            for k, v in self.eval_dict.items():\n",
    "                eval_results[\"test_{}\".format(k)] = v\n",
    "            self.evaluation_results_list.append(eval_results)\n",
    "\n",
    "    def initialize_metrics(self):\n",
    "        # Initializing evaluation metrics\n",
    "        self.accuracy = evaluate.load('accuracy')\n",
    "        self.precision = evaluate.load('precision')\n",
    "        self.recall = evaluate.load('recall')\n",
    "        self.f1 = evaluate.load('f1')\n",
    "        self.roc_auc =  evaluate.load(\"roc_auc\", \"multiclass\")\n",
    "        self.metrics = [self.accuracy, self.precision, self.recall, self.f1]\n",
    "                \n",
    "    def eval_model(self, dataloader):\n",
    "        # Evaluating the model on different dataloaders\n",
    "        self.initialize_metrics()\n",
    "        self.model.eval()\n",
    "        for batch in dataloader:\n",
    "            batch = {k: v.to(self.device) for k, v in batch.items()}\n",
    "            with torch.no_grad():\n",
    "                outputs = self.model(**batch)\n",
    "            # Extract logits and predictions\n",
    "            logits = outputs.logits\n",
    "            predictions = torch.argmax(logits, dim=-1)\n",
    "        \n",
    "            # Apply softmax to convert logits to probabilities\n",
    "            probabilities = torch.nn.functional.softmax(logits, dim=-1)\n",
    "            \n",
    "            # Extract probabilities for the positive class\n",
    "            positive_probabilities = probabilities\n",
    "        \n",
    "            # Update metrics for accuracy, precision, recall, and F1\n",
    "            for metric in self.metrics:\n",
    "                metric.add_batch(predictions=predictions, references=batch['labels'])\n",
    "        \n",
    "            # Update ROC AUC metric\n",
    "            self.roc_auc.add_batch(prediction_scores=positive_probabilities, references=batch['labels'])\n",
    "        \n",
    "        # # Compute metrics for accuracy, precision, recall, and F1\n",
    "        self.eval_dict = {}\n",
    "        self.eval_dict.update(self.accuracy.compute())\n",
    "        self.eval_dict.update(self.precision.compute(average=\"macro\"))\n",
    "        self.eval_dict.update(self.recall.compute(average=\"macro\"))\n",
    "        self.eval_dict.update(self.f1.compute(average=\"macro\"))\n",
    "        self.eval_dict.update(self.roc_auc.compute(multi_class='ovo', average=\"macro\"))        "
   ]
  },
  {
   "cell_type": "code",
   "execution_count": null,
   "id": "fb5f9c1a-11f0-45ba-8709-ac39959c10df",
   "metadata": {},
   "outputs": [],
   "source": []
  },
  {
   "cell_type": "markdown",
   "id": "28d265c6-ca58-4ec7-8680-472dd0e96795",
   "metadata": {},
   "source": [
    "# Running Experiments"
   ]
  },
  {
   "cell_type": "markdown",
   "id": "263f9724-8b9c-4ea4-8155-9a659b5960b8",
   "metadata": {},
   "source": [
    "Defining parameters on which we will run the experiments"
   ]
  },
  {
   "cell_type": "code",
   "execution_count": 37,
   "id": "10dda133-6db0-4dcc-8466-8255285f93a7",
   "metadata": {},
   "outputs": [],
   "source": [
    "model_name_list = [\"facebook/bart-base\", \"microsoft/deberta-base\"]\n",
    "num_epochs = 4\n",
    "strategies_list = [\"normal_finetuning\", \"concreteness_score_addition\"]\n",
    "train_dataset_type_list = [\"train\", \"artificial_train_combined\"]"
   ]
  },
  {
   "cell_type": "markdown",
   "id": "9ee27ab0-a62d-4285-8f24-dd118968018e",
   "metadata": {},
   "source": [
    "Defining static arguments"
   ]
  },
  {
   "cell_type": "code",
   "execution_count": 38,
   "id": "3949b6a3-df79-43dd-affa-2f0366e6c5a9",
   "metadata": {},
   "outputs": [],
   "source": [
    "kw_args = dict()\n",
    "kw_args[\"dataset\"] = adept_dataset\n",
    "kw_args[\"batch_size\"] = 32\n",
    "# This learning rate was found when we were doing hyperparameter tuning of different models\n",
    "# To check out the hyperparameter tuning, look at the following notebook:\n",
    "# modelling/adept/experiments/FineTuningAndModelSelection - ADEPT.ipynb\n",
    "kw_args[\"learning_rate\"] = 3.660515504756857e-05"
   ]
  },
  {
   "cell_type": "markdown",
   "id": "cf8528cd-6bc7-4ec2-9e37-26e99ccd48df",
   "metadata": {},
   "source": [
    "Running experiments in a loop"
   ]
  },
  {
   "cell_type": "code",
   "execution_count": 5,
   "id": "24e06ca0-fc46-4d51-9c48-c28527d561a2",
   "metadata": {},
   "outputs": [],
   "source": [
    "with open('result_dynamic_dict_final.json', 'r') as openfile:\n",
    "    result_dynamic_dict = json.load(openfile)"
   ]
  },
  {
   "cell_type": "code",
   "execution_count": 40,
   "id": "d0e1be96-cdf8-4db2-8169-0b2b9f96a7cd",
   "metadata": {},
   "outputs": [
    {
     "name": "stderr",
     "output_type": "stream",
     "text": [
      "Some weights of BartForSequenceClassification were not initialized from the model checkpoint at facebook/bart-base and are newly initialized: ['classification_head.dense.bias', 'classification_head.dense.weight', 'classification_head.out_proj.bias', 'classification_head.out_proj.weight']\n",
      "You should probably TRAIN this model on a down-stream task to be able to use it for predictions and inference.\n",
      "Map: 100%|██████████| 12892/12892 [00:00<00:00, 22405.98 examples/s]\n",
      "Map: 100%|██████████| 1611/1611 [00:00<00:00, 31412.97 examples/s]\n",
      "Map: 100%|██████████| 1612/1612 [00:00<00:00, 36686.73 examples/s]\n",
      "Map: 100%|██████████| 13186/13186 [00:00<00:00, 36056.67 examples/s]\n"
     ]
    },
    {
     "name": "stdout",
     "output_type": "stream",
     "text": [
      "**************************************************\n",
      "Model Training with the following Configurations: {'model_name': 'facebook/bart-base', 'strategy': 'normal_finetuning', 'train_dataset_type': 'train', 'num_epochs': 1}\n",
      "Model already trained, results are stored already!\n",
      "**************************************************\n",
      "Model Training with the following Configurations: {'model_name': 'facebook/bart-base', 'strategy': 'normal_finetuning', 'train_dataset_type': 'train', 'num_epochs': 2}\n",
      "Model already trained, results are stored already!\n",
      "**************************************************\n",
      "Model Training with the following Configurations: {'model_name': 'facebook/bart-base', 'strategy': 'normal_finetuning', 'train_dataset_type': 'train', 'num_epochs': 3}\n",
      "Model already trained, results are stored already!\n",
      "**************************************************\n",
      "Model Training with the following Configurations: {'model_name': 'facebook/bart-base', 'strategy': 'normal_finetuning', 'train_dataset_type': 'train', 'num_epochs': 4}\n",
      "Model already trained, results are stored already!\n",
      "**************************************************\n",
      "Model Training with the following Configurations: {'model_name': 'facebook/bart-base', 'strategy': 'normal_finetuning', 'train_dataset_type': 'train', 'num_epochs': 5}\n",
      "Model already trained, results are stored already!\n",
      "**************************************************\n",
      "Model Training with the following Configurations: {'model_name': 'facebook/bart-base', 'strategy': 'normal_finetuning', 'train_dataset_type': 'artificial_train_combined', 'num_epochs': 1}\n",
      "Model already trained, results are stored already!\n",
      "**************************************************\n",
      "Model Training with the following Configurations: {'model_name': 'facebook/bart-base', 'strategy': 'normal_finetuning', 'train_dataset_type': 'artificial_train_combined', 'num_epochs': 2}\n",
      "Model already trained, results are stored already!\n",
      "**************************************************\n",
      "Model Training with the following Configurations: {'model_name': 'facebook/bart-base', 'strategy': 'normal_finetuning', 'train_dataset_type': 'artificial_train_combined', 'num_epochs': 3}\n",
      "Model already trained, results are stored already!\n",
      "**************************************************\n",
      "Model Training with the following Configurations: {'model_name': 'facebook/bart-base', 'strategy': 'normal_finetuning', 'train_dataset_type': 'artificial_train_combined', 'num_epochs': 4}\n",
      "Model already trained, results are stored already!\n",
      "**************************************************\n",
      "Model Training with the following Configurations: {'model_name': 'facebook/bart-base', 'strategy': 'normal_finetuning', 'train_dataset_type': 'artificial_train_combined', 'num_epochs': 5}\n",
      "Model already trained, results are stored already!\n"
     ]
    },
    {
     "name": "stderr",
     "output_type": "stream",
     "text": [
      "Map: 100%|██████████| 12892/12892 [00:00<00:00, 63139.19 examples/s]\n",
      "Map: 100%|██████████| 1611/1611 [00:00<00:00, 64463.73 examples/s]\n",
      "Map: 100%|██████████| 1612/1612 [00:00<00:00, 54018.01 examples/s]\n",
      "Map: 100%|██████████| 13186/13186 [00:00<00:00, 46939.78 examples/s]\n"
     ]
    },
    {
     "name": "stdout",
     "output_type": "stream",
     "text": [
      "**************************************************\n",
      "Model Training with the following Configurations: {'model_name': 'facebook/bart-base', 'strategy': 'concreteness_score_addition', 'train_dataset_type': 'train', 'num_epochs': 1}\n",
      "Model already trained, results are stored already!\n",
      "**************************************************\n",
      "Model Training with the following Configurations: {'model_name': 'facebook/bart-base', 'strategy': 'concreteness_score_addition', 'train_dataset_type': 'train', 'num_epochs': 2}\n",
      "Model already trained, results are stored already!\n",
      "**************************************************\n",
      "Model Training with the following Configurations: {'model_name': 'facebook/bart-base', 'strategy': 'concreteness_score_addition', 'train_dataset_type': 'train', 'num_epochs': 3}\n",
      "Model already trained, results are stored already!\n",
      "**************************************************\n",
      "Model Training with the following Configurations: {'model_name': 'facebook/bart-base', 'strategy': 'concreteness_score_addition', 'train_dataset_type': 'train', 'num_epochs': 4}\n",
      "Model already trained, results are stored already!\n",
      "**************************************************\n",
      "Model Training with the following Configurations: {'model_name': 'facebook/bart-base', 'strategy': 'concreteness_score_addition', 'train_dataset_type': 'train', 'num_epochs': 5}\n",
      "Model already trained, results are stored already!\n",
      "**************************************************\n",
      "Model Training with the following Configurations: {'model_name': 'facebook/bart-base', 'strategy': 'concreteness_score_addition', 'train_dataset_type': 'artificial_train_combined', 'num_epochs': 1}\n",
      "Model already trained, results are stored already!\n",
      "**************************************************\n",
      "Model Training with the following Configurations: {'model_name': 'facebook/bart-base', 'strategy': 'concreteness_score_addition', 'train_dataset_type': 'artificial_train_combined', 'num_epochs': 2}\n",
      "Model already trained, results are stored already!\n",
      "**************************************************\n",
      "Model Training with the following Configurations: {'model_name': 'facebook/bart-base', 'strategy': 'concreteness_score_addition', 'train_dataset_type': 'artificial_train_combined', 'num_epochs': 3}\n",
      "Model already trained, results are stored already!\n",
      "**************************************************\n",
      "Model Training with the following Configurations: {'model_name': 'facebook/bart-base', 'strategy': 'concreteness_score_addition', 'train_dataset_type': 'artificial_train_combined', 'num_epochs': 4}\n",
      "Model already trained, results are stored already!\n",
      "**************************************************\n",
      "Model Training with the following Configurations: {'model_name': 'facebook/bart-base', 'strategy': 'concreteness_score_addition', 'train_dataset_type': 'artificial_train_combined', 'num_epochs': 5}\n",
      "Model already trained, results are stored already!\n"
     ]
    },
    {
     "name": "stderr",
     "output_type": "stream",
     "text": [
      "Some weights of DebertaForSequenceClassification were not initialized from the model checkpoint at microsoft/deberta-base and are newly initialized: ['pooler.dense.bias', 'pooler.dense.weight', 'classifier.bias', 'classifier.weight']\n",
      "You should probably TRAIN this model on a down-stream task to be able to use it for predictions and inference.\n",
      "Map: 100%|██████████| 12892/12892 [00:00<00:00, 26492.69 examples/s]\n",
      "Map: 100%|██████████| 1611/1611 [00:00<00:00, 33692.80 examples/s]\n",
      "Map: 100%|██████████| 1612/1612 [00:00<00:00, 30112.63 examples/s]\n",
      "Map: 100%|██████████| 13186/13186 [00:00<00:00, 26203.33 examples/s]\n"
     ]
    },
    {
     "name": "stdout",
     "output_type": "stream",
     "text": [
      "**************************************************\n",
      "Model Training with the following Configurations: {'model_name': 'microsoft/deberta-base', 'strategy': 'normal_finetuning', 'train_dataset_type': 'train', 'num_epochs': 1}\n",
      "Model already trained, results are stored already!\n",
      "**************************************************\n",
      "Model Training with the following Configurations: {'model_name': 'microsoft/deberta-base', 'strategy': 'normal_finetuning', 'train_dataset_type': 'train', 'num_epochs': 2}\n",
      "Model already trained, results are stored already!\n",
      "**************************************************\n",
      "Model Training with the following Configurations: {'model_name': 'microsoft/deberta-base', 'strategy': 'normal_finetuning', 'train_dataset_type': 'train', 'num_epochs': 3}\n",
      "Model already trained, results are stored already!\n",
      "**************************************************\n",
      "Model Training with the following Configurations: {'model_name': 'microsoft/deberta-base', 'strategy': 'normal_finetuning', 'train_dataset_type': 'train', 'num_epochs': 4}\n"
     ]
    },
    {
     "name": "stderr",
     "output_type": "stream",
     "text": [
      "  0%|          | 0/1612 [00:00<?, ?it/s]You're using a DebertaTokenizerFast tokenizer. Please note that with a fast tokenizer, using the `__call__` method is faster than using a method to encode the text followed by a call to the `pad` method to get a padded encoding.\n",
      "100%|██████████| 1612/1612 [10:46<00:00,  2.49it/s]\n",
      "/usr/local/lib/python3.10/site-packages/sklearn/metrics/_classification.py:1471: UndefinedMetricWarning: Precision is ill-defined and being set to 0.0 in labels with no predicted samples. Use `zero_division` parameter to control this behavior.\n",
      "  _warn_prf(average, modifier, msg_start, len(result))\n"
     ]
    },
    {
     "name": "stdout",
     "output_type": "stream",
     "text": [
      "Validation Set Results: {'accuracy': 0.6871508379888268, 'precision': 0.4186095583252888, 'recall': 0.39262791166246014, 'f1': 0.4012524015527438, 'roc_auc': 0.7439463909267664}\n"
     ]
    },
    {
     "name": "stderr",
     "output_type": "stream",
     "text": [
      "/usr/local/lib/python3.10/site-packages/sklearn/metrics/_classification.py:1471: UndefinedMetricWarning: Precision is ill-defined and being set to 0.0 in labels with no predicted samples. Use `zero_division` parameter to control this behavior.\n",
      "  _warn_prf(average, modifier, msg_start, len(result))\n"
     ]
    },
    {
     "name": "stdout",
     "output_type": "stream",
     "text": [
      "Test Set Results: {'accuracy': 0.6923076923076923, 'precision': 0.4084840373243804, 'recall': 0.38431233931211073, 'f1': 0.3927229802883287, 'roc_auc': 0.7742700765539997}\n",
      "**************************************************\n",
      "Model Training with the following Configurations: {'model_name': 'microsoft/deberta-base', 'strategy': 'normal_finetuning', 'train_dataset_type': 'train', 'num_epochs': 5}\n"
     ]
    },
    {
     "name": "stderr",
     "output_type": "stream",
     "text": [
      "100%|██████████| 2015/2015 [12:36<00:00,  2.66it/s]\n"
     ]
    },
    {
     "name": "stdout",
     "output_type": "stream",
     "text": [
      "Validation Set Results: {'accuracy': 0.6902545003103663, 'precision': 0.5185267517664055, 'recall': 0.4118983147031622, 'f1': 0.44386541723253314, 'roc_auc': 0.6943006349330593}\n",
      "Test Set Results: {'accuracy': 0.6985111662531017, 'precision': 0.41656189448328806, 'recall': 0.3820292982679011, 'f1': 0.39505962693176716, 'roc_auc': 0.7146024131316175}\n",
      "**************************************************\n",
      "Model Training with the following Configurations: {'model_name': 'microsoft/deberta-base', 'strategy': 'normal_finetuning', 'train_dataset_type': 'artificial_train_combined', 'num_epochs': 1}\n"
     ]
    },
    {
     "name": "stderr",
     "output_type": "stream",
     "text": [
      "100%|██████████| 413/413 [02:35<00:00,  2.66it/s]\n"
     ]
    },
    {
     "name": "stdout",
     "output_type": "stream",
     "text": [
      "Validation Set Results: {'accuracy': 0.6679081315952824, 'precision': 0.3906355599348996, 'recall': 0.36095773978436513, 'f1': 0.3705696143572116, 'roc_auc': 0.7003670147783432}\n",
      "Test Set Results: {'accuracy': 0.6799007444168734, 'precision': 0.40171509281678774, 'recall': 0.36915271224533164, 'f1': 0.3814225149534182, 'roc_auc': 0.7193427151103073}\n",
      "**************************************************\n",
      "Model Training with the following Configurations: {'model_name': 'microsoft/deberta-base', 'strategy': 'normal_finetuning', 'train_dataset_type': 'artificial_train_combined', 'num_epochs': 2}\n"
     ]
    },
    {
     "name": "stderr",
     "output_type": "stream",
     "text": [
      "100%|██████████| 826/826 [05:41<00:00,  2.42it/s]\n"
     ]
    },
    {
     "name": "stdout",
     "output_type": "stream",
     "text": [
      "Validation Set Results: {'accuracy': 0.6790813159528243, 'precision': 0.5601927168654706, 'recall': 0.4110456190467889, 'f1': 0.4419498087675951, 'roc_auc': 0.6837787765199714}\n",
      "Test Set Results: {'accuracy': 0.6786600496277916, 'precision': 0.4055059192894347, 'recall': 0.3719294390636822, 'f1': 0.38219619102447067, 'roc_auc': 0.7141537299372234}\n",
      "**************************************************\n",
      "Model Training with the following Configurations: {'model_name': 'microsoft/deberta-base', 'strategy': 'normal_finetuning', 'train_dataset_type': 'artificial_train_combined', 'num_epochs': 3}\n"
     ]
    },
    {
     "name": "stderr",
     "output_type": "stream",
     "text": [
      "100%|██████████| 1239/1239 [10:05<00:00,  2.05it/s]\n"
     ]
    },
    {
     "name": "stdout",
     "output_type": "stream",
     "text": [
      "Validation Set Results: {'accuracy': 0.6672873991309746, 'precision': 0.42092601075142316, 'recall': 0.3805201429176444, 'f1': 0.3922714403721782, 'roc_auc': 0.6857387686563758}\n",
      "Test Set Results: {'accuracy': 0.6817617866004962, 'precision': 0.4031520104081278, 'recall': 0.376082090983103, 'f1': 0.3855609234414048, 'roc_auc': 0.704769560314406}\n",
      "**************************************************\n",
      "Model Training with the following Configurations: {'model_name': 'microsoft/deberta-base', 'strategy': 'normal_finetuning', 'train_dataset_type': 'artificial_train_combined', 'num_epochs': 4}\n"
     ]
    },
    {
     "name": "stderr",
     "output_type": "stream",
     "text": [
      "100%|██████████| 1652/1652 [13:15<00:00,  2.08it/s]\n"
     ]
    },
    {
     "name": "stdout",
     "output_type": "stream",
     "text": [
      "Validation Set Results: {'accuracy': 0.6815642458100558, 'precision': 0.4441755949122873, 'recall': 0.38126863405362243, 'f1': 0.39991462380303444, 'roc_auc': 0.6845153127696051}\n",
      "Test Set Results: {'accuracy': 0.6730769230769231, 'precision': 0.38596300930972594, 'recall': 0.35991596737783443, 'f1': 0.3694702941009892, 'roc_auc': 0.7158223330649242}\n",
      "**************************************************\n",
      "Model Training with the following Configurations: {'model_name': 'microsoft/deberta-base', 'strategy': 'normal_finetuning', 'train_dataset_type': 'artificial_train_combined', 'num_epochs': 5}\n"
     ]
    },
    {
     "name": "stderr",
     "output_type": "stream",
     "text": [
      "100%|██████████| 2065/2065 [27:27<00:00,  1.25it/s]\n"
     ]
    },
    {
     "name": "stdout",
     "output_type": "stream",
     "text": [
      "Validation Set Results: {'accuracy': 0.675356921166977, 'precision': 0.4616062688071665, 'recall': 0.3976541954881011, 'f1': 0.4171796696172333, 'roc_auc': 0.6858180539222076}\n",
      "Test Set Results: {'accuracy': 0.6755583126550868, 'precision': 0.3912852700047992, 'recall': 0.3557209575066992, 'f1': 0.3666117464465253, 'roc_auc': 0.7083185792693363}\n"
     ]
    },
    {
     "name": "stderr",
     "output_type": "stream",
     "text": [
      "Map: 100%|██████████| 12892/12892 [00:00<00:00, 34292.02 examples/s]\n",
      "Map: 100%|██████████| 1611/1611 [00:00<00:00, 23713.18 examples/s]\n",
      "Map: 100%|██████████| 1612/1612 [00:00<00:00, 33055.24 examples/s]\n",
      "Map: 100%|██████████| 13186/13186 [00:00<00:00, 29426.10 examples/s]\n"
     ]
    },
    {
     "name": "stdout",
     "output_type": "stream",
     "text": [
      "**************************************************\n",
      "Model Training with the following Configurations: {'model_name': 'microsoft/deberta-base', 'strategy': 'concreteness_score_addition', 'train_dataset_type': 'train', 'num_epochs': 1}\n"
     ]
    },
    {
     "name": "stderr",
     "output_type": "stream",
     "text": [
      "100%|██████████| 403/403 [9:47:47<00:00, 87.51s/it]      \n",
      "Using the latest cached version of the module from /root/.cache/huggingface/modules/evaluate_modules/metrics/evaluate-metric--accuracy/f887c0aab52c2d38e1f8a215681126379eca617f96c447638f751434e8e65b14 (last modified on Sat Jan 13 15:01:23 2024) since it couldn't be found locally at evaluate-metric--accuracy, or remotely on the Hugging Face Hub.\n",
      "Using the latest cached version of the module from /root/.cache/huggingface/modules/evaluate_modules/metrics/evaluate-metric--precision/4e7f439a346715f68500ce6f2be82bf3272abd3f20bdafd203a2c4f85b61dd5f (last modified on Sat Jan 13 15:01:24 2024) since it couldn't be found locally at evaluate-metric--precision, or remotely on the Hugging Face Hub.\n",
      "Using the latest cached version of the module from /root/.cache/huggingface/modules/evaluate_modules/metrics/evaluate-metric--recall/e40e6e98d18ff3f210f4d0b26fa721bfaa80704b1fdf890fa551cfabf94fc185 (last modified on Sat Jan 13 15:01:25 2024) since it couldn't be found locally at evaluate-metric--recall, or remotely on the Hugging Face Hub.\n",
      "Using the latest cached version of the module from /root/.cache/huggingface/modules/evaluate_modules/metrics/evaluate-metric--f1/0ca73f6cf92ef5a268320c697f7b940d1030f8471714bffdb6856c641b818974 (last modified on Sat Jan 13 15:01:26 2024) since it couldn't be found locally at evaluate-metric--f1, or remotely on the Hugging Face Hub.\n"
     ]
    },
    {
     "name": "stdout",
     "output_type": "stream",
     "text": [
      "Validation Set Results: {'accuracy': 0.6610800744878957, 'precision': 0.43693302827527064, 'recall': 0.3730871880389382, 'f1': 0.3889061622307941, 'roc_auc': 0.7014696706757467}\n",
      "Test Set Results: {'accuracy': 0.6674937965260546, 'precision': 0.38542062193126025, 'recall': 0.35456562191172064, 'f1': 0.3633524424354881, 'roc_auc': 0.7063884687387432}\n",
      "**************************************************\n",
      "Model Training with the following Configurations: {'model_name': 'microsoft/deberta-base', 'strategy': 'concreteness_score_addition', 'train_dataset_type': 'train', 'num_epochs': 2}\n"
     ]
    },
    {
     "name": "stderr",
     "output_type": "stream",
     "text": [
      "100%|██████████| 806/806 [02:57<00:00,  4.55it/s]\n"
     ]
    },
    {
     "name": "stdout",
     "output_type": "stream",
     "text": [
      "Validation Set Results: {'accuracy': 0.6654252017380509, 'precision': 0.42096816076888555, 'recall': 0.38395121238635616, 'f1': 0.3962121473519412, 'roc_auc': 0.7033909372979876}\n",
      "Test Set Results: {'accuracy': 0.6761786600496278, 'precision': 0.39573171334361845, 'recall': 0.3730877008553174, 'f1': 0.3792386452799055, 'roc_auc': 0.7213488634014896}\n",
      "**************************************************\n",
      "Model Training with the following Configurations: {'model_name': 'microsoft/deberta-base', 'strategy': 'concreteness_score_addition', 'train_dataset_type': 'train', 'num_epochs': 3}\n"
     ]
    },
    {
     "name": "stderr",
     "output_type": "stream",
     "text": [
      "100%|██████████| 1209/1209 [03:51<00:00,  5.23it/s]\n"
     ]
    },
    {
     "name": "stdout",
     "output_type": "stream",
     "text": [
      "Validation Set Results: {'accuracy': 0.6561142147734327, 'precision': 0.4255860396032184, 'recall': 0.3827421523991988, 'f1': 0.3917694438485236, 'roc_auc': 0.7178306207724361}\n",
      "Test Set Results: {'accuracy': 0.6650124069478908, 'precision': 0.380317648250368, 'recall': 0.3572426502335766, 'f1': 0.3626975631021918, 'roc_auc': 0.6957536831853407}\n",
      "**************************************************\n",
      "Model Training with the following Configurations: {'model_name': 'microsoft/deberta-base', 'strategy': 'concreteness_score_addition', 'train_dataset_type': 'train', 'num_epochs': 4}\n"
     ]
    },
    {
     "name": "stderr",
     "output_type": "stream",
     "text": [
      "100%|██████████| 1612/1612 [05:02<00:00,  5.33it/s]\n"
     ]
    },
    {
     "name": "stdout",
     "output_type": "stream",
     "text": [
      "Validation Set Results: {'accuracy': 0.6691495965238982, 'precision': 0.4346649988867, 'recall': 0.38018099555218376, 'f1': 0.39672404228922226, 'roc_auc': 0.6860779104855007}\n",
      "Test Set Results: {'accuracy': 0.6823821339950372, 'precision': 0.3939163651795911, 'recall': 0.3665468073565523, 'f1': 0.3765325312711787, 'roc_auc': 0.7053148230133509}\n",
      "**************************************************\n",
      "Model Training with the following Configurations: {'model_name': 'microsoft/deberta-base', 'strategy': 'concreteness_score_addition', 'train_dataset_type': 'train', 'num_epochs': 5}\n"
     ]
    },
    {
     "name": "stderr",
     "output_type": "stream",
     "text": [
      "100%|██████████| 2015/2015 [06:15<00:00,  5.37it/s]\n"
     ]
    },
    {
     "name": "stdout",
     "output_type": "stream",
     "text": [
      "Validation Set Results: {'accuracy': 0.6697703289882061, 'precision': 0.4356658790149647, 'recall': 0.39683173873014665, 'f1': 0.4100145160750013, 'roc_auc': 0.6770104379848745}\n",
      "Test Set Results: {'accuracy': 0.6650124069478908, 'precision': 0.3765610327776234, 'recall': 0.3552000762130788, 'f1': 0.35959079484898976, 'roc_auc': 0.6861956297100398}\n",
      "**************************************************\n",
      "Model Training with the following Configurations: {'model_name': 'microsoft/deberta-base', 'strategy': 'concreteness_score_addition', 'train_dataset_type': 'artificial_train_combined', 'num_epochs': 1}\n"
     ]
    },
    {
     "name": "stderr",
     "output_type": "stream",
     "text": [
      "100%|██████████| 413/413 [01:21<00:00,  5.05it/s]\n"
     ]
    },
    {
     "name": "stdout",
     "output_type": "stream",
     "text": [
      "Validation Set Results: {'accuracy': 0.6604593420235878, 'precision': 0.4115509349635703, 'recall': 0.3937624750109034, 'f1': 0.39848980524362415, 'roc_auc': 0.6914127884447117}\n",
      "Test Set Results: {'accuracy': 0.6681141439205955, 'precision': 0.3854999532869029, 'recall': 0.37086706776825995, 'f1': 0.3740629234722924, 'roc_auc': 0.6914842257077026}\n",
      "**************************************************\n",
      "Model Training with the following Configurations: {'model_name': 'microsoft/deberta-base', 'strategy': 'concreteness_score_addition', 'train_dataset_type': 'artificial_train_combined', 'num_epochs': 2}\n"
     ]
    },
    {
     "name": "stderr",
     "output_type": "stream",
     "text": [
      "100%|██████████| 826/826 [02:35<00:00,  5.33it/s]\n"
     ]
    },
    {
     "name": "stdout",
     "output_type": "stream",
     "text": [
      "Validation Set Results: {'accuracy': 0.6685288640595903, 'precision': 0.414127816394296, 'recall': 0.3803838639843709, 'f1': 0.39357890740135176, 'roc_auc': 0.6889716928797687}\n",
      "Test Set Results: {'accuracy': 0.6761786600496278, 'precision': 0.3837815671209168, 'recall': 0.3587822085385712, 'f1': 0.3675782528218282, 'roc_auc': 0.684431416526113}\n",
      "**************************************************\n",
      "Model Training with the following Configurations: {'model_name': 'microsoft/deberta-base', 'strategy': 'concreteness_score_addition', 'train_dataset_type': 'artificial_train_combined', 'num_epochs': 3}\n"
     ]
    },
    {
     "name": "stderr",
     "output_type": "stream",
     "text": [
      "100%|██████████| 1239/1239 [03:50<00:00,  5.38it/s]\n"
     ]
    },
    {
     "name": "stdout",
     "output_type": "stream",
     "text": [
      "Validation Set Results: {'accuracy': 0.6834264432029795, 'precision': 0.478087844561833, 'recall': 0.3889682444977398, 'f1': 0.4164942246940207, 'roc_auc': 0.6790667838524148}\n",
      "Test Set Results: {'accuracy': 0.6861042183622829, 'precision': 0.39861550932887047, 'recall': 0.3530838638799513, 'f1': 0.36885031928029977, 'roc_auc': 0.7056425245341424}\n",
      "**************************************************\n",
      "Model Training with the following Configurations: {'model_name': 'microsoft/deberta-base', 'strategy': 'concreteness_score_addition', 'train_dataset_type': 'artificial_train_combined', 'num_epochs': 4}\n"
     ]
    },
    {
     "name": "stderr",
     "output_type": "stream",
     "text": [
      "100%|██████████| 1652/1652 [05:08<00:00,  5.36it/s]\n"
     ]
    },
    {
     "name": "stdout",
     "output_type": "stream",
     "text": [
      "Validation Set Results: {'accuracy': 0.6641837368094351, 'precision': 0.4126809498784147, 'recall': 0.3578836287840328, 'f1': 0.3752672542352229, 'roc_auc': 0.6892224830898426}\n",
      "Test Set Results: {'accuracy': 0.6830024813895782, 'precision': 0.3955779657812998, 'recall': 0.35329457209328885, 'f1': 0.36753432352103765, 'roc_auc': 0.6886548938110679}\n",
      "**************************************************\n",
      "Model Training with the following Configurations: {'model_name': 'microsoft/deberta-base', 'strategy': 'concreteness_score_addition', 'train_dataset_type': 'artificial_train_combined', 'num_epochs': 5}\n"
     ]
    },
    {
     "name": "stderr",
     "output_type": "stream",
     "text": [
      "100%|██████████| 2065/2065 [06:28<00:00,  5.31it/s]\n"
     ]
    },
    {
     "name": "stdout",
     "output_type": "stream",
     "text": [
      "Validation Set Results: {'accuracy': 0.6679081315952824, 'precision': 0.41806778787730836, 'recall': 0.37698908700488826, 'f1': 0.39082621614704455, 'roc_auc': 0.6652193222193417}\n",
      "Test Set Results: {'accuracy': 0.6718362282878412, 'precision': 0.389527456759045, 'recall': 0.356901336826667, 'f1': 0.36771529163052563, 'roc_auc': 0.6941670168026562}\n"
     ]
    }
   ],
   "source": [
    "result_list = list()\n",
    "for model_name in model_name_list:\n",
    "    # Setting Model Name\n",
    "    kw_args[\"model_name\"] = model_name\n",
    "    # Initializing ModellingExperiments Object\n",
    "    modelling_obj = ModellingExperiments(**kw_args)\n",
    "    for strategy in strategies_list:\n",
    "        # Preparing dataset for a specific strategy\n",
    "        modelling_obj.prepare_dataset(strategy=strategy)\n",
    "        for train_dataset_type in train_dataset_type_list:\n",
    "            # Preparing data loaders\n",
    "            modelling_obj.prepare_dataloaders(train_dataset_type=train_dataset_type)\n",
    "            print(\"*\"*50)\n",
    "            # Initializing dictionary for storing results\n",
    "            result_dict = dict()\n",
    "            result_dict[\"model_name\"] = model_name\n",
    "            result_dict[\"strategy\"] = strategy\n",
    "            result_dict[\"train_dataset_type\"] = train_dataset_type\n",
    "            print(\"Model Training with the following Configurations: {}\".format(result_dict))\n",
    "            unique_key = \"#\".join(str(i) for i in list(result_dict.values()))\n",
    "            if not result_dynamic_dict.get(unique_key):\n",
    "                result_dynamic_dict[unique_key] = dict()\n",
    "                # initializing model\n",
    "                modelling_obj.init_model()\n",
    "                # For a specic num_epochs variable, we are setting up the optimizers\n",
    "                modelling_obj.setup_optimizer(num_epochs=num_epochs)\n",
    "                # Now, we are training the model\n",
    "                modelling_obj.train_model()\n",
    "                # Saving evaluated results\n",
    "                evaluation_results_list = modelling_obj.evaluation_results_list\n",
    "                for evaluation_results in evaluation_results_list:\n",
    "                    result_dict.update(evaluation_results)\n",
    "                    result_list.append(result_dict)\n",
    "                # Updating the stored file\n",
    "                result_dynamic_dict[unique_key] = evaluation_results_list\n",
    "                # Storing the updated result file\n",
    "                with open('result_dynamic_dict_final.json', 'w', encoding='utf-8') as f:\n",
    "                    json.dump(result_dynamic_dict, f, ensure_ascii=False, indent=4)\n",
    "            else:\n",
    "                print(\"Model already trained, results are stored already!\")"
   ]
  },
  {
   "cell_type": "markdown",
   "id": "5993819f-aab9-4bd1-8c88-8ed3bc756427",
   "metadata": {},
   "source": [
    "We are done with the experiments, now, let's take a look at the results. First, we will have to convert our dynamic results dictionary to a more readable format. Let's do that first"
   ]
  },
  {
   "cell_type": "code",
   "execution_count": 47,
   "id": "da110aa1-53e8-415d-836d-a2d7a03fcc07",
   "metadata": {},
   "outputs": [],
   "source": [
    "result_list = list()\n",
    "for k, v in  result_dynamic_dict.items():\n",
    "    result_dict = dict()\n",
    "    model_name, strategy, train_dataset_type, num_epochs = k.split(\"#\")\n",
    "    result_dict['model_name'] = model_name\n",
    "    result_dict['strategy'] = strategy\n",
    "    result_dict['train_dataset_type'] = train_dataset_type\n",
    "    result_dict['num_epochs'] = num_epochs\n",
    "    result_dict.update(v)\n",
    "    result_list.append(result_dict)"
   ]
  },
  {
   "cell_type": "code",
   "execution_count": 48,
   "id": "28d9053d-8cbc-4a7e-89f2-e064ac0c2ee1",
   "metadata": {},
   "outputs": [
    {
     "data": {
      "text/html": [
       "<div>\n",
       "<style scoped>\n",
       "    .dataframe tbody tr th:only-of-type {\n",
       "        vertical-align: middle;\n",
       "    }\n",
       "\n",
       "    .dataframe tbody tr th {\n",
       "        vertical-align: top;\n",
       "    }\n",
       "\n",
       "    .dataframe thead th {\n",
       "        text-align: right;\n",
       "    }\n",
       "</style>\n",
       "<table border=\"1\" class=\"dataframe\">\n",
       "  <thead>\n",
       "    <tr style=\"text-align: right;\">\n",
       "      <th></th>\n",
       "      <th>model_name</th>\n",
       "      <th>strategy</th>\n",
       "      <th>train_dataset_type</th>\n",
       "      <th>num_epochs</th>\n",
       "      <th>validation_accuracy</th>\n",
       "      <th>validation_precision</th>\n",
       "      <th>validation_recall</th>\n",
       "      <th>validation_f1</th>\n",
       "      <th>validation_roc_auc</th>\n",
       "      <th>test_accuracy</th>\n",
       "      <th>test_precision</th>\n",
       "      <th>test_recall</th>\n",
       "      <th>test_f1</th>\n",
       "      <th>test_roc_auc</th>\n",
       "    </tr>\n",
       "  </thead>\n",
       "  <tbody>\n",
       "    <tr>\n",
       "      <th>0</th>\n",
       "      <td>facebook/bart-base</td>\n",
       "      <td>normal_finetuning</td>\n",
       "      <td>artificial_train_combined</td>\n",
       "      <td>4</td>\n",
       "      <td>0.643700</td>\n",
       "      <td>0.407816</td>\n",
       "      <td>0.371499</td>\n",
       "      <td>0.379424</td>\n",
       "      <td>0.709469</td>\n",
       "      <td>0.660670</td>\n",
       "      <td>0.391620</td>\n",
       "      <td>0.355412</td>\n",
       "      <td>0.362779</td>\n",
       "      <td>0.664120</td>\n",
       "    </tr>\n",
       "    <tr>\n",
       "      <th>1</th>\n",
       "      <td>facebook/bart-base</td>\n",
       "      <td>normal_finetuning</td>\n",
       "      <td>artificial_train_combined</td>\n",
       "      <td>3</td>\n",
       "      <td>0.644320</td>\n",
       "      <td>0.401431</td>\n",
       "      <td>0.367276</td>\n",
       "      <td>0.375490</td>\n",
       "      <td>0.717923</td>\n",
       "      <td>0.656328</td>\n",
       "      <td>0.384495</td>\n",
       "      <td>0.348071</td>\n",
       "      <td>0.354225</td>\n",
       "      <td>0.671998</td>\n",
       "    </tr>\n",
       "    <tr>\n",
       "      <th>2</th>\n",
       "      <td>facebook/bart-base</td>\n",
       "      <td>normal_finetuning</td>\n",
       "      <td>artificial_train_combined</td>\n",
       "      <td>2</td>\n",
       "      <td>0.637492</td>\n",
       "      <td>0.397055</td>\n",
       "      <td>0.377034</td>\n",
       "      <td>0.377530</td>\n",
       "      <td>0.721176</td>\n",
       "      <td>0.651985</td>\n",
       "      <td>0.375186</td>\n",
       "      <td>0.344811</td>\n",
       "      <td>0.349463</td>\n",
       "      <td>0.701714</td>\n",
       "    </tr>\n",
       "    <tr>\n",
       "      <th>3</th>\n",
       "      <td>facebook/bart-base</td>\n",
       "      <td>normal_finetuning</td>\n",
       "      <td>artificial_train_combined</td>\n",
       "      <td>1</td>\n",
       "      <td>0.650528</td>\n",
       "      <td>0.412457</td>\n",
       "      <td>0.383748</td>\n",
       "      <td>0.388809</td>\n",
       "      <td>0.725237</td>\n",
       "      <td>0.653846</td>\n",
       "      <td>0.378361</td>\n",
       "      <td>0.343366</td>\n",
       "      <td>0.351389</td>\n",
       "      <td>0.723250</td>\n",
       "    </tr>\n",
       "    <tr>\n",
       "      <th>4</th>\n",
       "      <td>facebook/bart-base</td>\n",
       "      <td>normal_finetuning</td>\n",
       "      <td>train</td>\n",
       "      <td>5</td>\n",
       "      <td>0.644320</td>\n",
       "      <td>0.465194</td>\n",
       "      <td>0.386774</td>\n",
       "      <td>0.399399</td>\n",
       "      <td>0.737584</td>\n",
       "      <td>0.660670</td>\n",
       "      <td>0.380488</td>\n",
       "      <td>0.358638</td>\n",
       "      <td>0.358990</td>\n",
       "      <td>0.709219</td>\n",
       "    </tr>\n",
       "  </tbody>\n",
       "</table>\n",
       "</div>"
      ],
      "text/plain": [
       "           model_name           strategy         train_dataset_type  \\\n",
       "0  facebook/bart-base  normal_finetuning  artificial_train_combined   \n",
       "1  facebook/bart-base  normal_finetuning  artificial_train_combined   \n",
       "2  facebook/bart-base  normal_finetuning  artificial_train_combined   \n",
       "3  facebook/bart-base  normal_finetuning  artificial_train_combined   \n",
       "4  facebook/bart-base  normal_finetuning                      train   \n",
       "\n",
       "  num_epochs  validation_accuracy  validation_precision  validation_recall  \\\n",
       "0          4             0.643700              0.407816           0.371499   \n",
       "1          3             0.644320              0.401431           0.367276   \n",
       "2          2             0.637492              0.397055           0.377034   \n",
       "3          1             0.650528              0.412457           0.383748   \n",
       "4          5             0.644320              0.465194           0.386774   \n",
       "\n",
       "   validation_f1  validation_roc_auc  test_accuracy  test_precision  \\\n",
       "0       0.379424            0.709469       0.660670        0.391620   \n",
       "1       0.375490            0.717923       0.656328        0.384495   \n",
       "2       0.377530            0.721176       0.651985        0.375186   \n",
       "3       0.388809            0.725237       0.653846        0.378361   \n",
       "4       0.399399            0.737584       0.660670        0.380488   \n",
       "\n",
       "   test_recall   test_f1  test_roc_auc  \n",
       "0     0.355412  0.362779      0.664120  \n",
       "1     0.348071  0.354225      0.671998  \n",
       "2     0.344811  0.349463      0.701714  \n",
       "3     0.343366  0.351389      0.723250  \n",
       "4     0.358638  0.358990      0.709219  "
      ]
     },
     "execution_count": 48,
     "metadata": {},
     "output_type": "execute_result"
    }
   ],
   "source": [
    "results_df = pd.DataFrame(result_list)\n",
    "results_df.head()"
   ]
  },
  {
   "cell_type": "code",
   "execution_count": 49,
   "id": "2ae1277d-25b0-4f44-a6da-4e4063364b8c",
   "metadata": {},
   "outputs": [
    {
     "data": {
      "text/plain": [
       "(40, 14)"
      ]
     },
     "execution_count": 49,
     "metadata": {},
     "output_type": "execute_result"
    }
   ],
   "source": [
    "results_df.shape"
   ]
  },
  {
   "cell_type": "markdown",
   "id": "4201baae-beeb-4339-b739-de9794b2abe2",
   "metadata": {},
   "source": [
    "Now, let's take a look at the top three models with best test ROC-AUC score"
   ]
  },
  {
   "cell_type": "code",
   "execution_count": 53,
   "id": "dd0d2ac4-5a0e-4335-8bfd-af473d102e52",
   "metadata": {},
   "outputs": [
    {
     "data": {
      "text/html": [
       "<div>\n",
       "<style scoped>\n",
       "    .dataframe tbody tr th:only-of-type {\n",
       "        vertical-align: middle;\n",
       "    }\n",
       "\n",
       "    .dataframe tbody tr th {\n",
       "        vertical-align: top;\n",
       "    }\n",
       "\n",
       "    .dataframe thead th {\n",
       "        text-align: right;\n",
       "    }\n",
       "</style>\n",
       "<table border=\"1\" class=\"dataframe\">\n",
       "  <thead>\n",
       "    <tr style=\"text-align: right;\">\n",
       "      <th></th>\n",
       "      <th>model_name</th>\n",
       "      <th>strategy</th>\n",
       "      <th>train_dataset_type</th>\n",
       "      <th>num_epochs</th>\n",
       "      <th>validation_accuracy</th>\n",
       "      <th>validation_precision</th>\n",
       "      <th>validation_recall</th>\n",
       "      <th>validation_f1</th>\n",
       "      <th>validation_roc_auc</th>\n",
       "      <th>test_accuracy</th>\n",
       "      <th>test_precision</th>\n",
       "      <th>test_recall</th>\n",
       "      <th>test_f1</th>\n",
       "      <th>test_roc_auc</th>\n",
       "    </tr>\n",
       "  </thead>\n",
       "  <tbody>\n",
       "    <tr>\n",
       "      <th>21</th>\n",
       "      <td>microsoft/deberta-base</td>\n",
       "      <td>normal_finetuning</td>\n",
       "      <td>train</td>\n",
       "      <td>2</td>\n",
       "      <td>0.695220</td>\n",
       "      <td>0.427162</td>\n",
       "      <td>0.373991</td>\n",
       "      <td>0.393227</td>\n",
       "      <td>0.743959</td>\n",
       "      <td>0.718362</td>\n",
       "      <td>0.445171</td>\n",
       "      <td>0.387312</td>\n",
       "      <td>0.409286</td>\n",
       "      <td>0.785589</td>\n",
       "    </tr>\n",
       "    <tr>\n",
       "      <th>14</th>\n",
       "      <td>facebook/bart-base</td>\n",
       "      <td>concreteness_score_addition</td>\n",
       "      <td>train</td>\n",
       "      <td>5</td>\n",
       "      <td>0.682806</td>\n",
       "      <td>0.416843</td>\n",
       "      <td>0.363024</td>\n",
       "      <td>0.377532</td>\n",
       "      <td>0.738429</td>\n",
       "      <td>0.692308</td>\n",
       "      <td>0.419259</td>\n",
       "      <td>0.349611</td>\n",
       "      <td>0.366614</td>\n",
       "      <td>0.778402</td>\n",
       "    </tr>\n",
       "    <tr>\n",
       "      <th>23</th>\n",
       "      <td>microsoft/deberta-base</td>\n",
       "      <td>normal_finetuning</td>\n",
       "      <td>train</td>\n",
       "      <td>4</td>\n",
       "      <td>0.687151</td>\n",
       "      <td>0.418610</td>\n",
       "      <td>0.392628</td>\n",
       "      <td>0.401252</td>\n",
       "      <td>0.743946</td>\n",
       "      <td>0.692308</td>\n",
       "      <td>0.408484</td>\n",
       "      <td>0.384312</td>\n",
       "      <td>0.392723</td>\n",
       "      <td>0.774270</td>\n",
       "    </tr>\n",
       "  </tbody>\n",
       "</table>\n",
       "</div>"
      ],
      "text/plain": [
       "                model_name                     strategy train_dataset_type  \\\n",
       "21  microsoft/deberta-base            normal_finetuning              train   \n",
       "14      facebook/bart-base  concreteness_score_addition              train   \n",
       "23  microsoft/deberta-base            normal_finetuning              train   \n",
       "\n",
       "   num_epochs  validation_accuracy  validation_precision  validation_recall  \\\n",
       "21          2             0.695220              0.427162           0.373991   \n",
       "14          5             0.682806              0.416843           0.363024   \n",
       "23          4             0.687151              0.418610           0.392628   \n",
       "\n",
       "    validation_f1  validation_roc_auc  test_accuracy  test_precision  \\\n",
       "21       0.393227            0.743959       0.718362        0.445171   \n",
       "14       0.377532            0.738429       0.692308        0.419259   \n",
       "23       0.401252            0.743946       0.692308        0.408484   \n",
       "\n",
       "    test_recall   test_f1  test_roc_auc  \n",
       "21     0.387312  0.409286      0.785589  \n",
       "14     0.349611  0.366614      0.778402  \n",
       "23     0.384312  0.392723      0.774270  "
      ]
     },
     "execution_count": 53,
     "metadata": {},
     "output_type": "execute_result"
    }
   ],
   "source": [
    "results_df.sort_values(by=['test_roc_auc'], ascending=False).head(3)"
   ]
  },
  {
   "cell_type": "markdown",
   "id": "95e19121-38cc-4c12-a477-ead280ee014e",
   "metadata": {},
   "source": [
    "Here, we can see that DeBERTa Base model with normal finetuning and on original training set is getting .785589 ROC-AUC. Which is good.\n",
    "We can also see that the BART model in which we have added concreteness score as another input sequence, is not much behind it.\n",
    "Also, the test accuracy for 5 label classification is better than the one mentioned in the ADEPT paper."
   ]
  },
  {
   "cell_type": "markdown",
   "id": "11306909-3f7f-4ffa-926d-f624972cc5fc",
   "metadata": {},
   "source": [
    "Now, let's take a look at top three models with best test accuracy"
   ]
  },
  {
   "cell_type": "code",
   "execution_count": 57,
   "id": "5141b0e7-c6d4-43d6-b07e-0c5497a18b6a",
   "metadata": {},
   "outputs": [
    {
     "data": {
      "text/html": [
       "<div>\n",
       "<style scoped>\n",
       "    .dataframe tbody tr th:only-of-type {\n",
       "        vertical-align: middle;\n",
       "    }\n",
       "\n",
       "    .dataframe tbody tr th {\n",
       "        vertical-align: top;\n",
       "    }\n",
       "\n",
       "    .dataframe thead th {\n",
       "        text-align: right;\n",
       "    }\n",
       "</style>\n",
       "<table border=\"1\" class=\"dataframe\">\n",
       "  <thead>\n",
       "    <tr style=\"text-align: right;\">\n",
       "      <th></th>\n",
       "      <th>model_name</th>\n",
       "      <th>strategy</th>\n",
       "      <th>train_dataset_type</th>\n",
       "      <th>num_epochs</th>\n",
       "      <th>validation_accuracy</th>\n",
       "      <th>validation_precision</th>\n",
       "      <th>validation_recall</th>\n",
       "      <th>validation_f1</th>\n",
       "      <th>validation_roc_auc</th>\n",
       "      <th>test_accuracy</th>\n",
       "      <th>test_precision</th>\n",
       "      <th>test_recall</th>\n",
       "      <th>test_f1</th>\n",
       "      <th>test_roc_auc</th>\n",
       "    </tr>\n",
       "  </thead>\n",
       "  <tbody>\n",
       "    <tr>\n",
       "      <th>21</th>\n",
       "      <td>microsoft/deberta-base</td>\n",
       "      <td>normal_finetuning</td>\n",
       "      <td>train</td>\n",
       "      <td>2</td>\n",
       "      <td>0.695220</td>\n",
       "      <td>0.427162</td>\n",
       "      <td>0.373991</td>\n",
       "      <td>0.393227</td>\n",
       "      <td>0.743959</td>\n",
       "      <td>0.718362</td>\n",
       "      <td>0.445171</td>\n",
       "      <td>0.387312</td>\n",
       "      <td>0.409286</td>\n",
       "      <td>0.785589</td>\n",
       "    </tr>\n",
       "    <tr>\n",
       "      <th>7</th>\n",
       "      <td>facebook/bart-base</td>\n",
       "      <td>normal_finetuning</td>\n",
       "      <td>train</td>\n",
       "      <td>2</td>\n",
       "      <td>0.700186</td>\n",
       "      <td>0.426976</td>\n",
       "      <td>0.356478</td>\n",
       "      <td>0.378228</td>\n",
       "      <td>0.742281</td>\n",
       "      <td>0.716501</td>\n",
       "      <td>0.451492</td>\n",
       "      <td>0.372408</td>\n",
       "      <td>0.395883</td>\n",
       "      <td>0.749283</td>\n",
       "    </tr>\n",
       "    <tr>\n",
       "      <th>20</th>\n",
       "      <td>microsoft/deberta-base</td>\n",
       "      <td>normal_finetuning</td>\n",
       "      <td>train</td>\n",
       "      <td>1</td>\n",
       "      <td>0.703911</td>\n",
       "      <td>0.346965</td>\n",
       "      <td>0.304372</td>\n",
       "      <td>0.311997</td>\n",
       "      <td>0.713676</td>\n",
       "      <td>0.712159</td>\n",
       "      <td>0.546481</td>\n",
       "      <td>0.303803</td>\n",
       "      <td>0.315190</td>\n",
       "      <td>0.734625</td>\n",
       "    </tr>\n",
       "  </tbody>\n",
       "</table>\n",
       "</div>"
      ],
      "text/plain": [
       "                model_name           strategy train_dataset_type num_epochs  \\\n",
       "21  microsoft/deberta-base  normal_finetuning              train          2   \n",
       "7       facebook/bart-base  normal_finetuning              train          2   \n",
       "20  microsoft/deberta-base  normal_finetuning              train          1   \n",
       "\n",
       "    validation_accuracy  validation_precision  validation_recall  \\\n",
       "21             0.695220              0.427162           0.373991   \n",
       "7              0.700186              0.426976           0.356478   \n",
       "20             0.703911              0.346965           0.304372   \n",
       "\n",
       "    validation_f1  validation_roc_auc  test_accuracy  test_precision  \\\n",
       "21       0.393227            0.743959       0.718362        0.445171   \n",
       "7        0.378228            0.742281       0.716501        0.451492   \n",
       "20       0.311997            0.713676       0.712159        0.546481   \n",
       "\n",
       "    test_recall   test_f1  test_roc_auc  \n",
       "21     0.387312  0.409286      0.785589  \n",
       "7      0.372408  0.395883      0.749283  \n",
       "20     0.303803  0.315190      0.734625  "
      ]
     },
     "execution_count": 57,
     "metadata": {},
     "output_type": "execute_result"
    }
   ],
   "source": [
    "results_df.sort_values(by=['test_accuracy'], ascending=False).head(3)"
   ]
  },
  {
   "cell_type": "markdown",
   "id": "94e425a1-bbce-41ba-99e6-bfef3470b6fa",
   "metadata": {},
   "source": [
    "Here, the same DeBERTa model is giving the best results. "
   ]
  },
  {
   "cell_type": "markdown",
   "id": "e9aa7f26-e2cf-44a8-9d4b-d1bd3c21c7f4",
   "metadata": {},
   "source": [
    "Now, let's take a look at models which used concreteness scores. Let's see how they are performing."
   ]
  },
  {
   "cell_type": "code",
   "execution_count": 59,
   "id": "74b64f34-2cba-4e46-b51c-11198f06f8e3",
   "metadata": {},
   "outputs": [
    {
     "data": {
      "text/html": [
       "<div>\n",
       "<style scoped>\n",
       "    .dataframe tbody tr th:only-of-type {\n",
       "        vertical-align: middle;\n",
       "    }\n",
       "\n",
       "    .dataframe tbody tr th {\n",
       "        vertical-align: top;\n",
       "    }\n",
       "\n",
       "    .dataframe thead th {\n",
       "        text-align: right;\n",
       "    }\n",
       "</style>\n",
       "<table border=\"1\" class=\"dataframe\">\n",
       "  <thead>\n",
       "    <tr style=\"text-align: right;\">\n",
       "      <th></th>\n",
       "      <th>model_name</th>\n",
       "      <th>strategy</th>\n",
       "      <th>train_dataset_type</th>\n",
       "      <th>num_epochs</th>\n",
       "      <th>validation_accuracy</th>\n",
       "      <th>validation_precision</th>\n",
       "      <th>validation_recall</th>\n",
       "      <th>validation_f1</th>\n",
       "      <th>validation_roc_auc</th>\n",
       "      <th>test_accuracy</th>\n",
       "      <th>test_precision</th>\n",
       "      <th>test_recall</th>\n",
       "      <th>test_f1</th>\n",
       "      <th>test_roc_auc</th>\n",
       "    </tr>\n",
       "  </thead>\n",
       "  <tbody>\n",
       "    <tr>\n",
       "      <th>14</th>\n",
       "      <td>facebook/bart-base</td>\n",
       "      <td>concreteness_score_addition</td>\n",
       "      <td>train</td>\n",
       "      <td>5</td>\n",
       "      <td>0.682806</td>\n",
       "      <td>0.416843</td>\n",
       "      <td>0.363024</td>\n",
       "      <td>0.377532</td>\n",
       "      <td>0.738429</td>\n",
       "      <td>0.692308</td>\n",
       "      <td>0.419259</td>\n",
       "      <td>0.349611</td>\n",
       "      <td>0.366614</td>\n",
       "      <td>0.778402</td>\n",
       "    </tr>\n",
       "    <tr>\n",
       "      <th>11</th>\n",
       "      <td>facebook/bart-base</td>\n",
       "      <td>concreteness_score_addition</td>\n",
       "      <td>train</td>\n",
       "      <td>2</td>\n",
       "      <td>0.666046</td>\n",
       "      <td>0.403130</td>\n",
       "      <td>0.373005</td>\n",
       "      <td>0.377412</td>\n",
       "      <td>0.750364</td>\n",
       "      <td>0.680521</td>\n",
       "      <td>0.409407</td>\n",
       "      <td>0.381596</td>\n",
       "      <td>0.384775</td>\n",
       "      <td>0.766821</td>\n",
       "    </tr>\n",
       "    <tr>\n",
       "      <th>15</th>\n",
       "      <td>facebook/bart-base</td>\n",
       "      <td>concreteness_score_addition</td>\n",
       "      <td>artificial_train_combined</td>\n",
       "      <td>1</td>\n",
       "      <td>0.686530</td>\n",
       "      <td>0.415817</td>\n",
       "      <td>0.367664</td>\n",
       "      <td>0.382074</td>\n",
       "      <td>0.735384</td>\n",
       "      <td>0.685484</td>\n",
       "      <td>0.399166</td>\n",
       "      <td>0.352500</td>\n",
       "      <td>0.365085</td>\n",
       "      <td>0.764365</td>\n",
       "    </tr>\n",
       "  </tbody>\n",
       "</table>\n",
       "</div>"
      ],
      "text/plain": [
       "            model_name                     strategy  \\\n",
       "14  facebook/bart-base  concreteness_score_addition   \n",
       "11  facebook/bart-base  concreteness_score_addition   \n",
       "15  facebook/bart-base  concreteness_score_addition   \n",
       "\n",
       "           train_dataset_type num_epochs  validation_accuracy  \\\n",
       "14                      train          5             0.682806   \n",
       "11                      train          2             0.666046   \n",
       "15  artificial_train_combined          1             0.686530   \n",
       "\n",
       "    validation_precision  validation_recall  validation_f1  \\\n",
       "14              0.416843           0.363024       0.377532   \n",
       "11              0.403130           0.373005       0.377412   \n",
       "15              0.415817           0.367664       0.382074   \n",
       "\n",
       "    validation_roc_auc  test_accuracy  test_precision  test_recall   test_f1  \\\n",
       "14            0.738429       0.692308        0.419259     0.349611  0.366614   \n",
       "11            0.750364       0.680521        0.409407     0.381596  0.384775   \n",
       "15            0.735384       0.685484        0.399166     0.352500  0.365085   \n",
       "\n",
       "    test_roc_auc  \n",
       "14      0.778402  \n",
       "11      0.766821  \n",
       "15      0.764365  "
      ]
     },
     "execution_count": 59,
     "metadata": {},
     "output_type": "execute_result"
    }
   ],
   "source": [
    "results_df[results_df.strategy == \"concreteness_score_addition\"].sort_values(by=['test_roc_auc'], ascending=False).head(3)"
   ]
  },
  {
   "cell_type": "markdown",
   "id": "ddf1eaa9-2228-4ca6-9ae2-c0242872e3a9",
   "metadata": {},
   "source": [
    "Here, we can see that BART is performing better with the concreteness score, this is interesting because when we were doing individual model experiments, DeBERTa model was getting similar results with the addition of concreteness score on 2 epochs of training, but we can't see that result here (it might be due to random state in intialization of the models).\n",
    "One more interesting model is model #15. It uses the artifial data combined with the original train data and is having good results."
   ]
  },
  {
   "cell_type": "code",
   "execution_count": 55,
   "id": "8e34bc89-efd7-418a-b964-89970ee7827c",
   "metadata": {},
   "outputs": [],
   "source": [
    "results_df.to_csv('../../results/FinalResultsADEPTNew.csv', index=False)"
   ]
  },
  {
   "cell_type": "code",
   "execution_count": null,
   "id": "acd9b32e-f22e-41bf-b31d-c1a50c2ce0fc",
   "metadata": {},
   "outputs": [],
   "source": []
  }
 ],
 "metadata": {
  "kernelspec": {
   "display_name": "Python 3 (ipykernel)",
   "language": "python",
   "name": "python3"
  },
  "language_info": {
   "codemirror_mode": {
    "name": "ipython",
    "version": 3
   },
   "file_extension": ".py",
   "mimetype": "text/x-python",
   "name": "python",
   "nbconvert_exporter": "python",
   "pygments_lexer": "ipython3",
   "version": "3.10.13"
  }
 },
 "nbformat": 4,
 "nbformat_minor": 5
}
