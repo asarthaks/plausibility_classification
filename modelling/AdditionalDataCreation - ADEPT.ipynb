{
 "cells": [
  {
   "cell_type": "markdown",
   "id": "1f917ae2-cc0a-493f-9376-7629cfffff9e",
   "metadata": {},
   "source": [
    "# Strategy"
   ]
  },
  {
   "cell_type": "markdown",
   "id": "2c2a1582-b68a-4b71-8d97-744fb77e1278",
   "metadata": {},
   "source": [
    "1. We used opensource Llama 2 70B model (https://huggingface.co/spaces/ysharma/Explore_llamav2_with_TGI) to generate additional datapoints for classes that had less datapoints (\"More Likely\" and \"Necessarily True\").\n",
    "2. We gave the Llama 2 model some examples of our sentences and the structure we want, and asked it to make similar data points.\n",
    "3. These data points were further verified by us manually to look for any outliers."
   ]
  },
  {
   "cell_type": "code",
   "execution_count": 1,
   "id": "265445ff-5974-49ba-a229-671a3fdb77fb",
   "metadata": {},
   "outputs": [
    {
     "name": "stdout",
     "output_type": "stream",
     "text": [
      "3.csv  4.csv\n"
     ]
    }
   ],
   "source": [
    "!ls ../datasets/artificial_adept/"
   ]
  },
  {
   "cell_type": "code",
   "execution_count": 5,
   "id": "0dc41cba-8098-4a02-be4c-d646b201b7d0",
   "metadata": {},
   "outputs": [],
   "source": [
    "import pandas as pd\n",
    "import matplotlib.pyplot as plt\n",
    "import numpy as np\n",
    "import json"
   ]
  },
  {
   "cell_type": "code",
   "execution_count": 18,
   "id": "51bb6b6c-2411-41c4-901d-2d6cb8f7661d",
   "metadata": {},
   "outputs": [],
   "source": [
    "adept_data_path = \"../datasets/adept/train-dev-test-split\"\n",
    "split = \"train\"\n",
    "artificial_adept_data_path = \"../datasets/artificial_adept\""
   ]
  },
  {
   "cell_type": "code",
   "execution_count": 19,
   "id": "a5e07776-01a7-48b0-a2ad-339e20ba3f38",
   "metadata": {},
   "outputs": [],
   "source": [
    "train_data = json.load(open('{}/{}.json'.format(adept_data_path, split), 'r'))"
   ]
  },
  {
   "cell_type": "code",
   "execution_count": 20,
   "id": "defa029e-9732-44ec-8507-2915b541d54b",
   "metadata": {},
   "outputs": [
    {
     "data": {
      "text/html": [
       "<div>\n",
       "<style scoped>\n",
       "    .dataframe tbody tr th:only-of-type {\n",
       "        vertical-align: middle;\n",
       "    }\n",
       "\n",
       "    .dataframe tbody tr th {\n",
       "        vertical-align: top;\n",
       "    }\n",
       "\n",
       "    .dataframe thead th {\n",
       "        text-align: right;\n",
       "    }\n",
       "</style>\n",
       "<table border=\"1\" class=\"dataframe\">\n",
       "  <thead>\n",
       "    <tr style=\"text-align: right;\">\n",
       "      <th></th>\n",
       "      <th>sentence1</th>\n",
       "      <th>sentence2</th>\n",
       "      <th>modifier</th>\n",
       "      <th>noun</th>\n",
       "      <th>label</th>\n",
       "      <th>idx</th>\n",
       "    </tr>\n",
       "  </thead>\n",
       "  <tbody>\n",
       "    <tr>\n",
       "      <th>0</th>\n",
       "      <td>The effect of sleeping is rejuvenation.</td>\n",
       "      <td>The effect of additional sleeping is rejuvenat...</td>\n",
       "      <td>additional</td>\n",
       "      <td>sleeping</td>\n",
       "      <td>3</td>\n",
       "      <td>13484</td>\n",
       "    </tr>\n",
       "    <tr>\n",
       "      <th>1</th>\n",
       "      <td>A toothbrush is for fresh breath.</td>\n",
       "      <td>A regular toothbrush is for fresh breath.</td>\n",
       "      <td>regular</td>\n",
       "      <td>toothbrush</td>\n",
       "      <td>2</td>\n",
       "      <td>2620</td>\n",
       "    </tr>\n",
       "    <tr>\n",
       "      <th>2</th>\n",
       "      <td>A scene is painted.</td>\n",
       "      <td>A negative scene is painted.</td>\n",
       "      <td>negative</td>\n",
       "      <td>scene</td>\n",
       "      <td>2</td>\n",
       "      <td>3324</td>\n",
       "    </tr>\n",
       "    <tr>\n",
       "      <th>3</th>\n",
       "      <td>A bone breaks a tooth.</td>\n",
       "      <td>An alleged bone breaks a tooth.</td>\n",
       "      <td>alleged</td>\n",
       "      <td>bone</td>\n",
       "      <td>2</td>\n",
       "      <td>10610</td>\n",
       "    </tr>\n",
       "    <tr>\n",
       "      <th>4</th>\n",
       "      <td>A trip causes a happening.</td>\n",
       "      <td>A fabulous trip causes a happening.</td>\n",
       "      <td>fabulous</td>\n",
       "      <td>trip</td>\n",
       "      <td>2</td>\n",
       "      <td>14917</td>\n",
       "    </tr>\n",
       "  </tbody>\n",
       "</table>\n",
       "</div>"
      ],
      "text/plain": [
       "                                 sentence1  \\\n",
       "0  The effect of sleeping is rejuvenation.   \n",
       "1        A toothbrush is for fresh breath.   \n",
       "2                      A scene is painted.   \n",
       "3                   A bone breaks a tooth.   \n",
       "4               A trip causes a happening.   \n",
       "\n",
       "                                           sentence2    modifier        noun  \\\n",
       "0  The effect of additional sleeping is rejuvenat...  additional    sleeping   \n",
       "1          A regular toothbrush is for fresh breath.     regular  toothbrush   \n",
       "2                       A negative scene is painted.    negative       scene   \n",
       "3                    An alleged bone breaks a tooth.     alleged        bone   \n",
       "4                A fabulous trip causes a happening.    fabulous        trip   \n",
       "\n",
       "   label    idx  \n",
       "0      3  13484  \n",
       "1      2   2620  \n",
       "2      2   3324  \n",
       "3      2  10610  \n",
       "4      2  14917  "
      ]
     },
     "execution_count": 20,
     "metadata": {},
     "output_type": "execute_result"
    }
   ],
   "source": [
    "df_train = pd.DataFrame(train_data)\n",
    "df_train.head()"
   ]
  },
  {
   "cell_type": "code",
   "execution_count": 25,
   "id": "a0023f05-e9d2-4b0c-a574-baacf059525f",
   "metadata": {},
   "outputs": [],
   "source": [
    "df_4 = pd.read_csv(\"{}/{}.csv\".format(artificial_adept_data_path, \"4\"))\n",
    "df_4[\"label\"] = 4\n",
    "df_3 = pd.read_csv(\"{}/{}.csv\".format(artificial_adept_data_path, \"3\"))\n",
    "df_3[\"label\"] = 3"
   ]
  },
  {
   "cell_type": "code",
   "execution_count": 26,
   "id": "4a0e16f3-c497-4303-9e4f-4439c3c9a21c",
   "metadata": {},
   "outputs": [
    {
     "data": {
      "text/plain": [
       "Index(['Noun', 'Adjective Modifier', 'Verb', 'Sentence', 'label'], dtype='object')"
      ]
     },
     "execution_count": 26,
     "metadata": {},
     "output_type": "execute_result"
    }
   ],
   "source": [
    "df_4.columns"
   ]
  },
  {
   "cell_type": "code",
   "execution_count": 27,
   "id": "fb10e568-fc6f-4907-9b46-3d7f83a14ab8",
   "metadata": {},
   "outputs": [],
   "source": [
    "df_4.rename({\"Noun\": \"noun\", \"Adjective Modifier\": \"modifier\", \"Sentence\": \"sentence2\"}, axis=1, inplace=True)\n",
    "df_3.rename({\"Noun\": \"noun\", \"Adjective Modifier\": \"modifier\", \"Sentence\": \"sentence2\"}, axis=1, inplace=True)"
   ]
  },
  {
   "cell_type": "code",
   "execution_count": 28,
   "id": "9d0929cb-8507-47ce-9ff0-e490d11ed2a1",
   "metadata": {},
   "outputs": [
    {
     "data": {
      "text/html": [
       "<div>\n",
       "<style scoped>\n",
       "    .dataframe tbody tr th:only-of-type {\n",
       "        vertical-align: middle;\n",
       "    }\n",
       "\n",
       "    .dataframe tbody tr th {\n",
       "        vertical-align: top;\n",
       "    }\n",
       "\n",
       "    .dataframe thead th {\n",
       "        text-align: right;\n",
       "    }\n",
       "</style>\n",
       "<table border=\"1\" class=\"dataframe\">\n",
       "  <thead>\n",
       "    <tr style=\"text-align: right;\">\n",
       "      <th></th>\n",
       "      <th>noun</th>\n",
       "      <th>modifier</th>\n",
       "      <th>Verb</th>\n",
       "      <th>sentence2</th>\n",
       "      <th>label</th>\n",
       "    </tr>\n",
       "  </thead>\n",
       "  <tbody>\n",
       "    <tr>\n",
       "      <th>0</th>\n",
       "      <td>Circuit</td>\n",
       "      <td>Short</td>\n",
       "      <td>Causes</td>\n",
       "      <td>A short circuit causes a power outage.</td>\n",
       "      <td>3</td>\n",
       "    </tr>\n",
       "    <tr>\n",
       "      <th>1</th>\n",
       "      <td>Headphones</td>\n",
       "      <td>Comfortable</td>\n",
       "      <td>Listen</td>\n",
       "      <td>Comfortable headphones listen to podcasts.</td>\n",
       "      <td>3</td>\n",
       "    </tr>\n",
       "  </tbody>\n",
       "</table>\n",
       "</div>"
      ],
      "text/plain": [
       "         noun     modifier    Verb  \\\n",
       "0     Circuit        Short  Causes   \n",
       "1  Headphones  Comfortable  Listen   \n",
       "\n",
       "                                    sentence2  label  \n",
       "0      A short circuit causes a power outage.      3  \n",
       "1  Comfortable headphones listen to podcasts.      3  "
      ]
     },
     "execution_count": 28,
     "metadata": {},
     "output_type": "execute_result"
    }
   ],
   "source": [
    "df_artificial = pd.concat([df_3, df_4])\n",
    "df_artificial.head(2)"
   ]
  },
  {
   "cell_type": "code",
   "execution_count": 29,
   "id": "f8f8ab7b-ada7-42c1-844b-0d2ce90a1ace",
   "metadata": {},
   "outputs": [
    {
     "data": {
      "text/plain": [
       "(177, 5)"
      ]
     },
     "execution_count": 29,
     "metadata": {},
     "output_type": "execute_result"
    }
   ],
   "source": [
    "df_artificial.shape"
   ]
  },
  {
   "cell_type": "code",
   "execution_count": 30,
   "id": "3654dd1d-fe4e-4634-9b25-0de0327b26db",
   "metadata": {},
   "outputs": [
    {
     "data": {
      "text/html": [
       "<div>\n",
       "<style scoped>\n",
       "    .dataframe tbody tr th:only-of-type {\n",
       "        vertical-align: middle;\n",
       "    }\n",
       "\n",
       "    .dataframe tbody tr th {\n",
       "        vertical-align: top;\n",
       "    }\n",
       "\n",
       "    .dataframe thead th {\n",
       "        text-align: right;\n",
       "    }\n",
       "</style>\n",
       "<table border=\"1\" class=\"dataframe\">\n",
       "  <thead>\n",
       "    <tr style=\"text-align: right;\">\n",
       "      <th></th>\n",
       "      <th>noun</th>\n",
       "      <th>modifier</th>\n",
       "      <th>Verb</th>\n",
       "      <th>sentence2</th>\n",
       "      <th>label</th>\n",
       "      <th>sentence1</th>\n",
       "      <th>idx</th>\n",
       "    </tr>\n",
       "  </thead>\n",
       "  <tbody>\n",
       "    <tr>\n",
       "      <th>0</th>\n",
       "      <td>Circuit</td>\n",
       "      <td>Short</td>\n",
       "      <td>Causes</td>\n",
       "      <td>A short circuit causes a power outage.</td>\n",
       "      <td>3</td>\n",
       "      <td>NaN</td>\n",
       "      <td>NaN</td>\n",
       "    </tr>\n",
       "    <tr>\n",
       "      <th>1</th>\n",
       "      <td>Headphones</td>\n",
       "      <td>Comfortable</td>\n",
       "      <td>Listen</td>\n",
       "      <td>Comfortable headphones listen to podcasts.</td>\n",
       "      <td>3</td>\n",
       "      <td>NaN</td>\n",
       "      <td>NaN</td>\n",
       "    </tr>\n",
       "  </tbody>\n",
       "</table>\n",
       "</div>"
      ],
      "text/plain": [
       "         noun     modifier    Verb  \\\n",
       "0     Circuit        Short  Causes   \n",
       "1  Headphones  Comfortable  Listen   \n",
       "\n",
       "                                    sentence2  label sentence1  idx  \n",
       "0      A short circuit causes a power outage.      3       NaN  NaN  \n",
       "1  Comfortable headphones listen to podcasts.      3       NaN  NaN  "
      ]
     },
     "execution_count": 30,
     "metadata": {},
     "output_type": "execute_result"
    }
   ],
   "source": [
    "df_combined = pd.concat([df_artificial, df_train])\n",
    "df_combined.head(2)"
   ]
  },
  {
   "cell_type": "code",
   "execution_count": 31,
   "id": "734072be-e747-4785-8516-f85e13b07afc",
   "metadata": {},
   "outputs": [
    {
     "data": {
      "text/html": [
       "<div>\n",
       "<style scoped>\n",
       "    .dataframe tbody tr th:only-of-type {\n",
       "        vertical-align: middle;\n",
       "    }\n",
       "\n",
       "    .dataframe tbody tr th {\n",
       "        vertical-align: top;\n",
       "    }\n",
       "\n",
       "    .dataframe thead th {\n",
       "        text-align: right;\n",
       "    }\n",
       "</style>\n",
       "<table border=\"1\" class=\"dataframe\">\n",
       "  <thead>\n",
       "    <tr style=\"text-align: right;\">\n",
       "      <th></th>\n",
       "      <th>noun</th>\n",
       "      <th>modifier</th>\n",
       "      <th>Verb</th>\n",
       "      <th>sentence2</th>\n",
       "      <th>label</th>\n",
       "      <th>sentence1</th>\n",
       "      <th>idx</th>\n",
       "    </tr>\n",
       "  </thead>\n",
       "  <tbody>\n",
       "    <tr>\n",
       "      <th>12890</th>\n",
       "      <td>farmer</td>\n",
       "      <td>ignorant</td>\n",
       "      <td>NaN</td>\n",
       "      <td>An ignorant farmer shakes a tree.</td>\n",
       "      <td>2</td>\n",
       "      <td>A farmer shakes a tree.</td>\n",
       "      <td>8846.0</td>\n",
       "    </tr>\n",
       "    <tr>\n",
       "      <th>12891</th>\n",
       "      <td>closet</td>\n",
       "      <td>essential</td>\n",
       "      <td>NaN</td>\n",
       "      <td>An essential closet is used for keeping your c...</td>\n",
       "      <td>2</td>\n",
       "      <td>A closet is used for keeping your clothes in.</td>\n",
       "      <td>13281.0</td>\n",
       "    </tr>\n",
       "  </tbody>\n",
       "</table>\n",
       "</div>"
      ],
      "text/plain": [
       "         noun   modifier Verb  \\\n",
       "12890  farmer   ignorant  NaN   \n",
       "12891  closet  essential  NaN   \n",
       "\n",
       "                                               sentence2  label  \\\n",
       "12890                  An ignorant farmer shakes a tree.      2   \n",
       "12891  An essential closet is used for keeping your c...      2   \n",
       "\n",
       "                                           sentence1      idx  \n",
       "12890                        A farmer shakes a tree.   8846.0  \n",
       "12891  A closet is used for keeping your clothes in.  13281.0  "
      ]
     },
     "execution_count": 31,
     "metadata": {},
     "output_type": "execute_result"
    }
   ],
   "source": [
    "df_combined.tail(2)"
   ]
  },
  {
   "cell_type": "code",
   "execution_count": 33,
   "id": "ff82bf80-7f3b-47a5-bb3a-a6c33d290add",
   "metadata": {},
   "outputs": [],
   "source": [
    "df_combined.to_csv('{}/artificial_train_combined.csv'.format(artificial_adept_data_path), index=False)"
   ]
  },
  {
   "cell_type": "code",
   "execution_count": null,
   "id": "711b24ed-0f36-49db-836f-91f99a6561b9",
   "metadata": {},
   "outputs": [],
   "source": []
  }
 ],
 "metadata": {
  "kernelspec": {
   "display_name": "Python 3 (ipykernel)",
   "language": "python",
   "name": "python3"
  },
  "language_info": {
   "codemirror_mode": {
    "name": "ipython",
    "version": 3
   },
   "file_extension": ".py",
   "mimetype": "text/x-python",
   "name": "python",
   "nbconvert_exporter": "python",
   "pygments_lexer": "ipython3",
   "version": "3.10.13"
  }
 },
 "nbformat": 4,
 "nbformat_minor": 5
}
